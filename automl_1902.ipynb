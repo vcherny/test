{
  "cells": [
    {
      "cell_type": "markdown",
      "source": [
        "# Automated ML\n",
        "\n",
        "TODO: Import Dependencies. In the cell below, import all the dependencies that you will need to complete the project."
      ],
      "metadata": {}
    },
    {
      "cell_type": "code",
      "source": [
        "from azureml.core.compute import ComputeTarget, AmlCompute\n",
        "from azureml.core import Workspace, Experiment\n",
        "from azureml.widgets import RunDetails\n",
        "import joblib\n",
        "from azureml.core import Environment\n",
        "from azureml.core.model import InferenceConfig,Model\n",
        "from azureml.core.webservice import AciWebservice,Webservice,LocalWebservice\n",
        "from azureml.train.automl import AutoMLConfig\n",
        "from azureml.core.compute_target import ComputeTargetException\n",
        "import requests\n",
        "from sklearn.metrics import mean_squared_error\n",
        "from sklearn.model_selection import train_test_split\n",
        "import math"
      ],
      "outputs": [],
      "execution_count": 68,
      "metadata": {
        "gather": {
          "logged": 1645366165943
        },
        "jupyter": {
          "outputs_hidden": false,
          "source_hidden": false
        },
        "nteract": {
          "transient": {
            "deleting": false
          }
        }
      }
    },
    {
      "cell_type": "markdown",
      "source": [
        "## Dataset\n",
        "\n",
        "### Overview\n",
        "The uploaded dataset is a bond data. The targeted variable is OAS - Option Adjusted Spread. This spread is a quantitative representation of the risk of the bond. It depends on many factors, one of the most important of which is the bonds's rating. The variables representing the rating is Warf (numerical format). Additionally, the dataset contains various indicators such as if the bond belongs to a certain type of industry. The goal is to predict the OAS using the input variables. Since it is a numeric continious variable, a regression will be chosen.\n"
      ],
      "metadata": {}
    },
    {
      "cell_type": "markdown",
      "source": [
        "TODO: Get data. In the cell below, write code to access the data you will be using in this project. Remember that the dataset needs to be external."
      ],
      "metadata": {}
    },
    {
      "cell_type": "code",
      "source": [
        "ws = Workspace.from_config()"
      ],
      "outputs": [],
      "execution_count": 2,
      "metadata": {
        "jupyter": {
          "source_hidden": false,
          "outputs_hidden": false
        },
        "nteract": {
          "transient": {
            "deleting": false
          }
        },
        "gather": {
          "logged": 1645355140854
        }
      }
    },
    {
      "cell_type": "code",
      "source": [
        "df_bonds = ws.datasets['df_bonds'] \n",
        "experiment=Experiment(ws, 'bonds_oas')\n",
        "cluster_name='valeriy-cluster'\n",
        "try:\n",
        "    cluster = ComputeTarget(workspace=ws, name=cluster_name)\n",
        "except ComputeTargetException:\n",
        "    compute_config = AmlCompute.provisioning_configuration(vm_size='STANDARD_DS12_V2',max_nodes=4)\n",
        "    cluster = ComputeTarget.create(ws, cluster_name, compute_config)"
      ],
      "outputs": [],
      "execution_count": 3,
      "metadata": {
        "gather": {
          "logged": 1645355142494
        },
        "jupyter": {
          "outputs_hidden": false,
          "source_hidden": false
        },
        "nteract": {
          "transient": {
            "deleting": false
          }
        }
      }
    },
    {
      "cell_type": "markdown",
      "source": [
        "## AutoML Configuration\n",
        "\n",
        "TODO: Explain why you chose the automl settings and cofiguration you used below."
      ],
      "metadata": {}
    },
    {
      "cell_type": "code",
      "source": [
        "# TODO: Put your automl settings here\n",
        "automl_settings = {\n",
        "\"experiment_timeout_minutes\": 15,\n",
        "\"max_concurrent_iterations\":20,\n",
        "'n_cross_validations':2,\n",
        "\"primary_metric\" : 'r2_score'\n",
        "}\n",
        "project_folder = './bonds-project'\n",
        "automl_config = AutoMLConfig(compute_target=cluster,\n",
        "                             task = \"regression\",\n",
        "                             training_data=df_bonds,\n",
        "                             label_column_name=\"OAS\",   \n",
        "                             path = project_folder,\n",
        "                             debug_log = \"automl_errors.log\",                            \n",
        "                             **automl_settings\n",
        "                            )"
      ],
      "outputs": [],
      "execution_count": 6,
      "metadata": {
        "gather": {
          "logged": 1645355194249
        },
        "jupyter": {
          "outputs_hidden": false,
          "source_hidden": false
        },
        "nteract": {
          "transient": {
            "deleting": false
          }
        }
      }
    },
    {
      "cell_type": "code",
      "source": [
        "# TODO: Submit your experiment\n",
        "remote_run = experiment.submit(automl_config)\n",
        "remote_run.wait_for_completion()"
      ],
      "outputs": [
        {
          "output_type": "stream",
          "name": "stdout",
          "text": "Submitting remote run.\n"
        },
        {
          "output_type": "display_data",
          "data": {
            "text/plain": "<IPython.core.display.HTML object>",
            "text/html": "<table style=\"width:100%\"><tr><th>Experiment</th><th>Id</th><th>Type</th><th>Status</th><th>Details Page</th><th>Docs Page</th></tr><tr><td>bonds_oas</td><td>AutoML_ed3676e2-c0c7-4066-8772-69c21d2030ac</td><td>automl</td><td>NotStarted</td><td><a href=\"https://ml.azure.com/runs/AutoML_ed3676e2-c0c7-4066-8772-69c21d2030ac?wsid=/subscriptions/6971f5ac-8af1-446e-8034-05acea24681f/resourcegroups/aml-quickstarts-187155/workspaces/quick-starts-ws-187155&amp;tid=660b3398-b80e-49d2-bc5b-ac1dc93b5254\" target=\"_blank\" rel=\"noopener\">Link to Azure Machine Learning studio</a></td><td><a href=\"https://docs.microsoft.com/en-us/python/api/overview/azure/ml/intro?view=azure-ml-py\" target=\"_blank\" rel=\"noopener\">Link to Documentation</a></td></tr></table>"
          },
          "metadata": {}
        },
        {
          "output_type": "execute_result",
          "execution_count": 7,
          "data": {
            "text/plain": "{'runId': 'AutoML_ed3676e2-c0c7-4066-8772-69c21d2030ac',\n 'target': 'valeriy-cluster',\n 'status': 'Completed',\n 'startTimeUtc': '2022-02-20T11:06:58.83504Z',\n 'endTimeUtc': '2022-02-20T11:25:19.854261Z',\n 'services': {},\n 'warnings': [{'source': 'JasmineService',\n   'message': 'Experiment timeout reached, hence experiment stopped. Current experiment timeout: 0 hour(s) 15 minute(s)'}],\n 'properties': {'num_iterations': '1000',\n  'training_type': 'TrainFull',\n  'acquisition_function': 'EI',\n  'primary_metric': 'r2_score',\n  'train_split': '0',\n  'acquisition_parameter': '0',\n  'num_cross_validation': '2',\n  'target': 'valeriy-cluster',\n  'AMLSettingsJsonString': '{\"path\":null,\"name\":\"bonds_oas\",\"subscription_id\":\"6971f5ac-8af1-446e-8034-05acea24681f\",\"resource_group\":\"aml-quickstarts-187155\",\"workspace_name\":\"quick-starts-ws-187155\",\"region\":\"westeurope\",\"compute_target\":\"valeriy-cluster\",\"spark_service\":null,\"azure_service\":\"remote\",\"many_models\":false,\"pipeline_fetch_max_batch_size\":1,\"enable_batch_run\":true,\"enable_run_restructure\":false,\"start_auxiliary_runs_before_parent_complete\":false,\"enable_code_generation\":false,\"iterations\":1000,\"primary_metric\":\"r2_score\",\"task_type\":\"regression\",\"positive_label\":null,\"data_script\":null,\"test_size\":0.0,\"test_include_predictions_only\":false,\"validation_size\":0.0,\"n_cross_validations\":2,\"y_min\":null,\"y_max\":null,\"num_classes\":null,\"featurization\":\"auto\",\"_ignore_package_version_incompatibilities\":false,\"is_timeseries\":false,\"max_cores_per_iteration\":1,\"max_concurrent_iterations\":20,\"iteration_timeout_minutes\":null,\"mem_in_mb\":null,\"enforce_time_on_windows\":false,\"experiment_timeout_minutes\":15,\"experiment_exit_score\":null,\"whitelist_models\":null,\"blacklist_algos\":[\"TensorFlowDNN\",\"TensorFlowLinearRegressor\"],\"supported_models\":[\"LightGBM\",\"LassoLars\",\"SGD\",\"KNN\",\"FastLinearRegressor\",\"OnlineGradientDescentRegressor\",\"DecisionTree\",\"TensorFlowLinearRegressor\",\"TensorFlowDNN\",\"XGBoostRegressor\",\"ExtremeRandomTrees\",\"TabnetRegressor\",\"GradientBoosting\",\"RandomForest\",\"ElasticNet\"],\"private_models\":[],\"auto_blacklist\":true,\"blacklist_samples_reached\":false,\"exclude_nan_labels\":true,\"verbosity\":20,\"_debug_log\":\"azureml_automl.log\",\"show_warnings\":false,\"model_explainability\":true,\"service_url\":null,\"sdk_url\":null,\"sdk_packages\":null,\"enable_onnx_compatible_models\":false,\"enable_split_onnx_featurizer_estimator_models\":false,\"vm_type\":\"STANDARD_DS12_V2\",\"telemetry_verbosity\":20,\"send_telemetry\":true,\"enable_dnn\":false,\"scenario\":\"SDK-1.13.0\",\"environment_label\":null,\"save_mlflow\":false,\"enable_categorical_indicators\":false,\"force_text_dnn\":false,\"enable_feature_sweeping\":true,\"enable_early_stopping\":true,\"early_stopping_n_iters\":10,\"arguments\":null,\"dataset_id\":null,\"hyperdrive_config\":null,\"validation_dataset_id\":null,\"run_source\":null,\"metrics\":null,\"enable_metric_confidence\":false,\"enable_ensembling\":true,\"enable_stack_ensembling\":true,\"ensemble_iterations\":15,\"enable_tf\":false,\"enable_subsampling\":null,\"subsample_seed\":null,\"enable_nimbusml\":false,\"enable_streaming\":false,\"force_streaming\":false,\"track_child_runs\":true,\"allowed_private_models\":[],\"label_column_name\":\"OAS\",\"weight_column_name\":null,\"cv_split_column_names\":null,\"enable_local_managed\":false,\"_local_managed_run_id\":null,\"cost_mode\":1,\"lag_length\":0,\"metric_operation\":\"maximize\",\"preprocess\":true}',\n  'DataPrepJsonString': '{\\\\\"training_data\\\\\": {\\\\\"datasetId\\\\\": \\\\\"f035c826-369a-4441-a7fa-80b70391eb49\\\\\"}, \\\\\"datasets\\\\\": 0}',\n  'EnableSubsampling': None,\n  'runTemplate': 'AutoML',\n  'azureml.runsource': 'automl',\n  'display_task_type': 'regression',\n  'dependencies_versions': '{\"azureml-widgets\": \"1.38.0\", \"azureml-train\": \"1.38.0\", \"azureml-train-restclients-hyperdrive\": \"1.38.0\", \"azureml-train-core\": \"1.38.0\", \"azureml-train-automl\": \"1.38.0\", \"azureml-train-automl-runtime\": \"1.38.0\", \"azureml-train-automl-client\": \"1.38.0\", \"azureml-tensorboard\": \"1.38.0\", \"azureml-telemetry\": \"1.38.0\", \"azureml-sdk\": \"1.38.0\", \"azureml-responsibleai\": \"1.38.0\", \"azureml-pipeline\": \"1.38.0\", \"azureml-pipeline-steps\": \"1.38.0\", \"azureml-pipeline-core\": \"1.38.0\", \"azureml-opendatasets\": \"1.38.0\", \"azureml-mlflow\": \"1.38.0\", \"azureml-interpret\": \"1.38.0\", \"azureml-inference-server-http\": \"0.4.2\", \"azureml-explain-model\": \"1.38.0\", \"azureml-defaults\": \"1.38.0\", \"azureml-dataset-runtime\": \"1.38.0\", \"azureml-dataprep\": \"2.26.0\", \"azureml-dataprep-rslex\": \"2.2.0\", \"azureml-dataprep-native\": \"38.0.0\", \"azureml-datadrift\": \"1.38.0\", \"azureml-core\": \"1.38.0\", \"azureml-contrib-services\": \"1.38.0\", \"azureml-contrib-server\": \"1.38.0\", \"azureml-contrib-reinforcementlearning\": \"1.38.0\", \"azureml-contrib-pipeline-steps\": \"1.38.0\", \"azureml-contrib-notebook\": \"1.38.0\", \"azureml-contrib-fairness\": \"1.38.0\", \"azureml-contrib-dataset\": \"1.38.0\", \"azureml-contrib-automl-pipeline-steps\": \"1.38.0\", \"azureml-cli-common\": \"1.38.0\", \"azureml-automl-runtime\": \"1.38.0\", \"azureml-automl-dnn-nlp\": \"1.38.0\", \"azureml-automl-core\": \"1.38.0\", \"azureml-accel-models\": \"1.38.0\"}',\n  '_aml_system_scenario_identification': 'Remote.Parent',\n  'ClientType': 'SDK',\n  'environment_cpu_name': 'AzureML-AutoML',\n  'environment_cpu_label': 'py36',\n  'environment_gpu_name': 'AzureML-AutoML-GPU',\n  'environment_gpu_label': 'py36',\n  'root_attribution': 'automl',\n  'attribution': 'AutoML',\n  'Orchestrator': 'AutoML',\n  'CancelUri': 'https://westeurope.api.azureml.ms/jasmine/v1.0/subscriptions/6971f5ac-8af1-446e-8034-05acea24681f/resourceGroups/aml-quickstarts-187155/providers/Microsoft.MachineLearningServices/workspaces/quick-starts-ws-187155/experimentids/1cb88fd2-0273-4228-abd9-329516f4366b/cancel/AutoML_ed3676e2-c0c7-4066-8772-69c21d2030ac',\n  'ClientSdkVersion': '1.38.0',\n  'snapshotId': '00000000-0000-0000-0000-000000000000',\n  'SetupRunId': 'AutoML_ed3676e2-c0c7-4066-8772-69c21d2030ac_setup',\n  'SetupRunContainerId': 'dcid.AutoML_ed3676e2-c0c7-4066-8772-69c21d2030ac_setup',\n  'FeaturizationRunJsonPath': 'featurizer_container.json',\n  'FeaturizationRunId': 'AutoML_ed3676e2-c0c7-4066-8772-69c21d2030ac_featurize',\n  'ProblemInfoJsonString': '{\"dataset_num_categorical\": 0, \"is_sparse\": true, \"subsampling\": false, \"has_extra_col\": true, \"dataset_classes\": 13554, \"dataset_features\": 49, \"dataset_samples\": 14384, \"single_frequency_class_detected\": false}',\n  'ModelExplainRunId': 'AutoML_ed3676e2-c0c7-4066-8772-69c21d2030ac_ModelExplain'},\n 'inputDatasets': [{'dataset': {'id': 'f035c826-369a-4441-a7fa-80b70391eb49'}, 'consumptionDetails': {'type': 'RunInput', 'inputName': 'training_data', 'mechanism': 'Direct'}}],\n 'outputDatasets': [],\n 'logFiles': {},\n 'submittedBy': 'ODL_User 187155'}"
          },
          "metadata": {}
        }
      ],
      "execution_count": 7,
      "metadata": {
        "gather": {
          "logged": 1645356338698
        },
        "jupyter": {
          "outputs_hidden": false,
          "source_hidden": false
        },
        "nteract": {
          "transient": {
            "deleting": false
          }
        }
      }
    },
    {
      "cell_type": "markdown",
      "source": [
        "## Run Details\n",
        "\n",
        "OPTIONAL: Write about the different models trained and their performance. Why do you think some models did better than others?\n",
        "\n",
        "TODO: In the cell below, use the `RunDetails` widget to show the different experiments."
      ],
      "metadata": {}
    },
    {
      "cell_type": "code",
      "source": [
        "RunDetails(remote_run).show()"
      ],
      "outputs": [
        {
          "output_type": "display_data",
          "data": {
            "text/plain": "_AutoMLWidget(widget_settings={'childWidgetDisplay': 'popup', 'send_telemetry': False, 'log_level': 'INFO', 's…",
            "application/vnd.jupyter.widget-view+json": {
              "version_major": 2,
              "version_minor": 0,
              "model_id": "09962267bcec44d593ef83af56c39ddc"
            }
          },
          "metadata": {}
        },
        {
          "output_type": "display_data",
          "data": {
            "application/aml.mini.widget.v1": "{\"status\": \"Completed\", \"workbench_run_details_uri\": \"https://ml.azure.com/runs/AutoML_ed3676e2-c0c7-4066-8772-69c21d2030ac?wsid=/subscriptions/6971f5ac-8af1-446e-8034-05acea24681f/resourcegroups/aml-quickstarts-187155/workspaces/quick-starts-ws-187155&tid=660b3398-b80e-49d2-bc5b-ac1dc93b5254\", \"run_id\": \"AutoML_ed3676e2-c0c7-4066-8772-69c21d2030ac\", \"run_properties\": {\"run_id\": \"AutoML_ed3676e2-c0c7-4066-8772-69c21d2030ac\", \"created_utc\": \"2022-02-20T11:06:44.370997Z\", \"properties\": {\"num_iterations\": \"1000\", \"training_type\": \"TrainFull\", \"acquisition_function\": \"EI\", \"primary_metric\": \"r2_score\", \"train_split\": \"0\", \"acquisition_parameter\": \"0\", \"num_cross_validation\": \"2\", \"target\": \"valeriy-cluster\", \"AMLSettingsJsonString\": \"{\\\"path\\\":null,\\\"name\\\":\\\"bonds_oas\\\",\\\"subscription_id\\\":\\\"6971f5ac-8af1-446e-8034-05acea24681f\\\",\\\"resource_group\\\":\\\"aml-quickstarts-187155\\\",\\\"workspace_name\\\":\\\"quick-starts-ws-187155\\\",\\\"region\\\":\\\"westeurope\\\",\\\"compute_target\\\":\\\"valeriy-cluster\\\",\\\"spark_service\\\":null,\\\"azure_service\\\":\\\"remote\\\",\\\"many_models\\\":false,\\\"pipeline_fetch_max_batch_size\\\":1,\\\"enable_batch_run\\\":true,\\\"enable_run_restructure\\\":false,\\\"start_auxiliary_runs_before_parent_complete\\\":false,\\\"enable_code_generation\\\":false,\\\"iterations\\\":1000,\\\"primary_metric\\\":\\\"r2_score\\\",\\\"task_type\\\":\\\"regression\\\",\\\"positive_label\\\":null,\\\"data_script\\\":null,\\\"test_size\\\":0.0,\\\"test_include_predictions_only\\\":false,\\\"validation_size\\\":0.0,\\\"n_cross_validations\\\":2,\\\"y_min\\\":null,\\\"y_max\\\":null,\\\"num_classes\\\":null,\\\"featurization\\\":\\\"auto\\\",\\\"_ignore_package_version_incompatibilities\\\":false,\\\"is_timeseries\\\":false,\\\"max_cores_per_iteration\\\":1,\\\"max_concurrent_iterations\\\":20,\\\"iteration_timeout_minutes\\\":null,\\\"mem_in_mb\\\":null,\\\"enforce_time_on_windows\\\":false,\\\"experiment_timeout_minutes\\\":15,\\\"experiment_exit_score\\\":null,\\\"whitelist_models\\\":null,\\\"blacklist_algos\\\":[\\\"TensorFlowDNN\\\",\\\"TensorFlowLinearRegressor\\\"],\\\"supported_models\\\":[\\\"LightGBM\\\",\\\"LassoLars\\\",\\\"SGD\\\",\\\"KNN\\\",\\\"FastLinearRegressor\\\",\\\"OnlineGradientDescentRegressor\\\",\\\"DecisionTree\\\",\\\"TensorFlowLinearRegressor\\\",\\\"TensorFlowDNN\\\",\\\"XGBoostRegressor\\\",\\\"ExtremeRandomTrees\\\",\\\"TabnetRegressor\\\",\\\"GradientBoosting\\\",\\\"RandomForest\\\",\\\"ElasticNet\\\"],\\\"private_models\\\":[],\\\"auto_blacklist\\\":true,\\\"blacklist_samples_reached\\\":false,\\\"exclude_nan_labels\\\":true,\\\"verbosity\\\":20,\\\"_debug_log\\\":\\\"azureml_automl.log\\\",\\\"show_warnings\\\":false,\\\"model_explainability\\\":true,\\\"service_url\\\":null,\\\"sdk_url\\\":null,\\\"sdk_packages\\\":null,\\\"enable_onnx_compatible_models\\\":false,\\\"enable_split_onnx_featurizer_estimator_models\\\":false,\\\"vm_type\\\":\\\"STANDARD_DS12_V2\\\",\\\"telemetry_verbosity\\\":20,\\\"send_telemetry\\\":true,\\\"enable_dnn\\\":false,\\\"scenario\\\":\\\"SDK-1.13.0\\\",\\\"environment_label\\\":null,\\\"save_mlflow\\\":false,\\\"enable_categorical_indicators\\\":false,\\\"force_text_dnn\\\":false,\\\"enable_feature_sweeping\\\":true,\\\"enable_early_stopping\\\":true,\\\"early_stopping_n_iters\\\":10,\\\"arguments\\\":null,\\\"dataset_id\\\":null,\\\"hyperdrive_config\\\":null,\\\"validation_dataset_id\\\":null,\\\"run_source\\\":null,\\\"metrics\\\":null,\\\"enable_metric_confidence\\\":false,\\\"enable_ensembling\\\":true,\\\"enable_stack_ensembling\\\":true,\\\"ensemble_iterations\\\":15,\\\"enable_tf\\\":false,\\\"enable_subsampling\\\":null,\\\"subsample_seed\\\":null,\\\"enable_nimbusml\\\":false,\\\"enable_streaming\\\":false,\\\"force_streaming\\\":false,\\\"track_child_runs\\\":true,\\\"allowed_private_models\\\":[],\\\"label_column_name\\\":\\\"OAS\\\",\\\"weight_column_name\\\":null,\\\"cv_split_column_names\\\":null,\\\"enable_local_managed\\\":false,\\\"_local_managed_run_id\\\":null,\\\"cost_mode\\\":1,\\\"lag_length\\\":0,\\\"metric_operation\\\":\\\"maximize\\\",\\\"preprocess\\\":true}\", \"DataPrepJsonString\": \"{\\\\\\\"training_data\\\\\\\": {\\\\\\\"datasetId\\\\\\\": \\\\\\\"f035c826-369a-4441-a7fa-80b70391eb49\\\\\\\"}, \\\\\\\"datasets\\\\\\\": 0}\", \"EnableSubsampling\": null, \"runTemplate\": \"AutoML\", \"azureml.runsource\": \"automl\", \"display_task_type\": \"regression\", \"dependencies_versions\": \"{\\\"azureml-widgets\\\": \\\"1.38.0\\\", \\\"azureml-train\\\": \\\"1.38.0\\\", \\\"azureml-train-restclients-hyperdrive\\\": \\\"1.38.0\\\", \\\"azureml-train-core\\\": \\\"1.38.0\\\", \\\"azureml-train-automl\\\": \\\"1.38.0\\\", \\\"azureml-train-automl-runtime\\\": \\\"1.38.0\\\", \\\"azureml-train-automl-client\\\": \\\"1.38.0\\\", \\\"azureml-tensorboard\\\": \\\"1.38.0\\\", \\\"azureml-telemetry\\\": \\\"1.38.0\\\", \\\"azureml-sdk\\\": \\\"1.38.0\\\", \\\"azureml-responsibleai\\\": \\\"1.38.0\\\", \\\"azureml-pipeline\\\": \\\"1.38.0\\\", \\\"azureml-pipeline-steps\\\": \\\"1.38.0\\\", \\\"azureml-pipeline-core\\\": \\\"1.38.0\\\", \\\"azureml-opendatasets\\\": \\\"1.38.0\\\", \\\"azureml-mlflow\\\": \\\"1.38.0\\\", \\\"azureml-interpret\\\": \\\"1.38.0\\\", \\\"azureml-inference-server-http\\\": \\\"0.4.2\\\", \\\"azureml-explain-model\\\": \\\"1.38.0\\\", \\\"azureml-defaults\\\": \\\"1.38.0\\\", \\\"azureml-dataset-runtime\\\": \\\"1.38.0\\\", \\\"azureml-dataprep\\\": \\\"2.26.0\\\", \\\"azureml-dataprep-rslex\\\": \\\"2.2.0\\\", \\\"azureml-dataprep-native\\\": \\\"38.0.0\\\", \\\"azureml-datadrift\\\": \\\"1.38.0\\\", \\\"azureml-core\\\": \\\"1.38.0\\\", \\\"azureml-contrib-services\\\": \\\"1.38.0\\\", \\\"azureml-contrib-server\\\": \\\"1.38.0\\\", \\\"azureml-contrib-reinforcementlearning\\\": \\\"1.38.0\\\", \\\"azureml-contrib-pipeline-steps\\\": \\\"1.38.0\\\", \\\"azureml-contrib-notebook\\\": \\\"1.38.0\\\", \\\"azureml-contrib-fairness\\\": \\\"1.38.0\\\", \\\"azureml-contrib-dataset\\\": \\\"1.38.0\\\", \\\"azureml-contrib-automl-pipeline-steps\\\": \\\"1.38.0\\\", \\\"azureml-cli-common\\\": \\\"1.38.0\\\", \\\"azureml-automl-runtime\\\": \\\"1.38.0\\\", \\\"azureml-automl-dnn-nlp\\\": \\\"1.38.0\\\", \\\"azureml-automl-core\\\": \\\"1.38.0\\\", \\\"azureml-accel-models\\\": \\\"1.38.0\\\"}\", \"_aml_system_scenario_identification\": \"Remote.Parent\", \"ClientType\": \"SDK\", \"environment_cpu_name\": \"AzureML-AutoML\", \"environment_cpu_label\": \"py36\", \"environment_gpu_name\": \"AzureML-AutoML-GPU\", \"environment_gpu_label\": \"py36\", \"root_attribution\": \"automl\", \"attribution\": \"AutoML\", \"Orchestrator\": \"AutoML\", \"CancelUri\": \"https://westeurope.api.azureml.ms/jasmine/v1.0/subscriptions/6971f5ac-8af1-446e-8034-05acea24681f/resourceGroups/aml-quickstarts-187155/providers/Microsoft.MachineLearningServices/workspaces/quick-starts-ws-187155/experimentids/1cb88fd2-0273-4228-abd9-329516f4366b/cancel/AutoML_ed3676e2-c0c7-4066-8772-69c21d2030ac\", \"ClientSdkVersion\": \"1.38.0\", \"snapshotId\": \"00000000-0000-0000-0000-000000000000\", \"SetupRunId\": \"AutoML_ed3676e2-c0c7-4066-8772-69c21d2030ac_setup\", \"SetupRunContainerId\": \"dcid.AutoML_ed3676e2-c0c7-4066-8772-69c21d2030ac_setup\", \"FeaturizationRunJsonPath\": \"featurizer_container.json\", \"FeaturizationRunId\": \"AutoML_ed3676e2-c0c7-4066-8772-69c21d2030ac_featurize\", \"ProblemInfoJsonString\": \"{\\\"dataset_num_categorical\\\": 0, \\\"is_sparse\\\": true, \\\"subsampling\\\": false, \\\"has_extra_col\\\": true, \\\"dataset_classes\\\": 13554, \\\"dataset_features\\\": 49, \\\"dataset_samples\\\": 14384, \\\"single_frequency_class_detected\\\": false}\", \"ModelExplainRunId\": \"AutoML_ed3676e2-c0c7-4066-8772-69c21d2030ac_ModelExplain\"}, \"tags\": {\"model_explain_run\": \"best_run\", \"_aml_system_azureml.automlComponent\": \"AutoML\", \"pipeline_id\": \"\", \"score\": \"\", \"predicted_cost\": \"\", \"fit_time\": \"\", \"training_percent\": \"\", \"iteration\": \"\", \"run_preprocessor\": \"\", \"run_algorithm\": \"\", \"dynamic_whitelisting_iterations\": \"<24>;<30>;<35>;<39>;<45>;\", \"_aml_system_azureml.automl_early_exit_message\": \"Experiment timeout reached, hence experiment stopped. Current experiment timeout: 0 hour(s) 15 minute(s)\", \"automl_best_child_run_id\": \"AutoML_ed3676e2-c0c7-4066-8772-69c21d2030ac_50\", \"model_explain_best_run_child_id\": \"AutoML_ed3676e2-c0c7-4066-8772-69c21d2030ac_50\"}, \"end_time_utc\": \"2022-02-20T11:25:19.854261Z\", \"status\": \"Completed\", \"log_files\": {}, \"log_groups\": [], \"run_duration\": \"0:18:35\", \"run_number\": \"1645355204\", \"run_queued_details\": {\"status\": \"Completed\", \"details\": null}}, \"child_runs\": [{\"run_id\": \"AutoML_ed3676e2-c0c7-4066-8772-69c21d2030ac_setup\", \"run_number\": 1645355217, \"metric\": null, \"status\": \"Completed\", \"run_type\": \"azureml.scriptrun\", \"training_percent\": null, \"start_time\": \"2022-02-20T11:07:29.273831Z\", \"end_time\": \"2022-02-20T11:07:32.826556Z\", \"created_time\": \"2022-02-20T11:06:57.089009Z\", \"created_time_dt\": \"2022-02-20T11:06:57.089009Z\", \"duration\": \"0:00:35\", \"iteration\": null, \"goal\": null, \"run_name\": \"Completed\", \"run_properties\": null}, {\"run_id\": \"AutoML_ed3676e2-c0c7-4066-8772-69c21d2030ac_featurize\", \"run_number\": 1645355253, \"metric\": null, \"status\": \"Completed\", \"run_type\": \"automl.featurization\", \"training_percent\": null, \"start_time\": \"2022-02-20T11:07:33.819842Z\", \"end_time\": \"2022-02-20T11:08:14.866868Z\", \"created_time\": \"2022-02-20T11:07:33.370258Z\", \"created_time_dt\": \"2022-02-20T11:07:33.370258Z\", \"duration\": \"0:00:41\", \"iteration\": null, \"goal\": null, \"run_name\": \"Completed\", \"run_properties\": null}, {\"run_id\": \"AutoML_ed3676e2-c0c7-4066-8772-69c21d2030ac_0\", \"run_number\": 1645355296, \"metric\": null, \"status\": \"Completed\", \"run_type\": null, \"training_percent\": \"100\", \"start_time\": \"2022-02-20T11:08:31.682686Z\", \"end_time\": \"2022-02-20T11:08:40.672426Z\", \"created_time\": \"2022-02-20T11:08:16.538463Z\", \"created_time_dt\": \"2022-02-20T11:08:16.538463Z\", \"duration\": \"0:00:24\", \"iteration\": \"0\", \"goal\": \"r2_score_max\", \"run_name\": \"MaxAbsScaler, LightGBM\", \"run_properties\": \"copy=True\", \"primary_metric\": 0.20116539, \"best_metric\": 0.20116539}, {\"run_id\": \"AutoML_ed3676e2-c0c7-4066-8772-69c21d2030ac_1\", \"run_number\": 1645355297, \"metric\": null, \"status\": \"Completed\", \"run_type\": null, \"training_percent\": \"100\", \"start_time\": \"2022-02-20T11:08:33.184582Z\", \"end_time\": \"2022-02-20T11:08:42.059322Z\", \"created_time\": \"2022-02-20T11:08:17.068283Z\", \"created_time_dt\": \"2022-02-20T11:08:17.068283Z\", \"duration\": \"0:00:24\", \"iteration\": \"1\", \"goal\": \"r2_score_max\", \"run_name\": \"MaxAbsScaler, XGBoostRegressor\", \"run_properties\": \"copy=True\", \"primary_metric\": 0.20303322, \"best_metric\": 0.20303322}, {\"run_id\": \"AutoML_ed3676e2-c0c7-4066-8772-69c21d2030ac_worker_2\", \"run_number\": 1645355298, \"metric\": null, \"status\": \"Completed\", \"run_type\": \"azureml.scriptrun\", \"training_percent\": null, \"start_time\": \"2022-02-20T11:09:24.912585Z\", \"end_time\": \"2022-02-20T11:09:28.47528Z\", \"created_time\": \"2022-02-20T11:08:18.301249Z\", \"created_time_dt\": \"2022-02-20T11:08:18.301249Z\", \"duration\": \"0:01:10\", \"iteration\": null, \"goal\": null, \"run_name\": \"Completed\", \"run_properties\": null}, {\"run_id\": \"AutoML_ed3676e2-c0c7-4066-8772-69c21d2030ac_4\", \"run_number\": 1645355299, \"metric\": null, \"status\": \"Completed\", \"run_type\": null, \"training_percent\": \"100\", \"start_time\": \"2022-02-20T11:10:30.363284Z\", \"end_time\": \"2022-02-20T11:10:38.469402Z\", \"created_time\": \"2022-02-20T11:08:19.402793Z\", \"created_time_dt\": \"2022-02-20T11:08:19.402793Z\", \"duration\": \"0:02:19\", \"iteration\": \"4\", \"goal\": \"r2_score_max\", \"run_name\": \"MaxAbsScaler, LightGBM\", \"run_properties\": \"copy=True\", \"primary_metric\": 0.20061407, \"best_metric\": 0.20303322}, {\"run_id\": \"AutoML_ed3676e2-c0c7-4066-8772-69c21d2030ac_5\", \"run_number\": 1645355300, \"metric\": null, \"status\": \"Completed\", \"run_type\": null, \"training_percent\": \"100\", \"start_time\": \"2022-02-20T11:10:32.26895Z\", \"end_time\": \"2022-02-20T11:10:41.34447Z\", \"created_time\": \"2022-02-20T11:08:20.001478Z\", \"created_time_dt\": \"2022-02-20T11:08:20.001478Z\", \"duration\": \"0:02:21\", \"iteration\": \"5\", \"goal\": \"r2_score_max\", \"run_name\": \"SparseNormalizer, XGBoostRegressor\", \"run_properties\": \"copy=True, norm='l2'\", \"primary_metric\": 0.19478475, \"best_metric\": 0.20303322}, {\"run_id\": \"AutoML_ed3676e2-c0c7-4066-8772-69c21d2030ac_worker_6\", \"run_number\": 1645355301, \"metric\": null, \"status\": \"Completed\", \"run_type\": \"azureml.scriptrun\", \"training_percent\": null, \"start_time\": \"2022-02-20T11:11:22.169099Z\", \"end_time\": \"2022-02-20T11:11:25.702876Z\", \"created_time\": \"2022-02-20T11:08:20.982099Z\", \"created_time_dt\": \"2022-02-20T11:08:20.982099Z\", \"duration\": \"0:03:04\", \"iteration\": null, \"goal\": null, \"run_name\": \"Completed\", \"run_properties\": null}, {\"run_id\": \"AutoML_ed3676e2-c0c7-4066-8772-69c21d2030ac_9\", \"run_number\": 1645355302, \"metric\": null, \"status\": \"Completed\", \"run_type\": null, \"training_percent\": \"100\", \"start_time\": \"2022-02-20T11:12:37.452186Z\", \"end_time\": \"2022-02-20T11:12:46.904102Z\", \"created_time\": \"2022-02-20T11:08:22.252115Z\", \"created_time_dt\": \"2022-02-20T11:08:22.252115Z\", \"duration\": \"0:04:24\", \"iteration\": \"9\", \"goal\": \"r2_score_max\", \"run_name\": \"SparseNormalizer, XGBoostRegressor\", \"run_properties\": \"copy=True, norm='l2'\", \"primary_metric\": 0.190803, \"best_metric\": 0.20303322}, {\"run_id\": \"AutoML_ed3676e2-c0c7-4066-8772-69c21d2030ac_10\", \"run_number\": 1645355304, \"metric\": null, \"status\": \"Completed\", \"run_type\": null, \"training_percent\": \"100\", \"start_time\": \"2022-02-20T11:13:14.928501Z\", \"end_time\": \"2022-02-20T11:13:23.386197Z\", \"created_time\": \"2022-02-20T11:08:24.280521Z\", \"created_time_dt\": \"2022-02-20T11:08:24.280521Z\", \"duration\": \"0:04:59\", \"iteration\": \"10\", \"goal\": \"r2_score_max\", \"run_name\": \"MaxAbsScaler, ExtremeRandomTrees\", \"run_properties\": \"copy=True\", \"primary_metric\": 0.19150878, \"best_metric\": 0.20303322}, {\"run_id\": \"AutoML_ed3676e2-c0c7-4066-8772-69c21d2030ac_worker_11\", \"run_number\": 1645355306, \"metric\": null, \"status\": \"Completed\", \"run_type\": \"azureml.scriptrun\", \"training_percent\": null, \"start_time\": \"2022-02-20T11:14:07.111316Z\", \"end_time\": \"2022-02-20T11:14:10.645337Z\", \"created_time\": \"2022-02-20T11:08:26.346046Z\", \"created_time_dt\": \"2022-02-20T11:08:26.346046Z\", \"duration\": \"0:05:44\", \"iteration\": null, \"goal\": null, \"run_name\": \"Completed\", \"run_properties\": null}, {\"run_id\": \"AutoML_ed3676e2-c0c7-4066-8772-69c21d2030ac_13\", \"run_number\": 1645355307, \"metric\": null, \"status\": \"Completed\", \"run_type\": null, \"training_percent\": \"100\", \"start_time\": \"2022-02-20T11:14:34.70221Z\", \"end_time\": \"2022-02-20T11:14:50.259574Z\", \"created_time\": \"2022-02-20T11:08:27.144935Z\", \"created_time_dt\": \"2022-02-20T11:08:27.144935Z\", \"duration\": \"0:06:23\", \"iteration\": \"13\", \"goal\": \"r2_score_max\", \"run_name\": \"MaxAbsScaler, RandomForest\", \"run_properties\": \"copy=True\", \"primary_metric\": 0.18140334, \"best_metric\": 0.20303322}, {\"run_id\": \"AutoML_ed3676e2-c0c7-4066-8772-69c21d2030ac_worker_14\", \"run_number\": 1645355308, \"metric\": null, \"status\": \"Completed\", \"run_type\": \"azureml.scriptrun\", \"training_percent\": null, \"start_time\": \"2022-02-20T11:15:27.446977Z\", \"end_time\": \"2022-02-20T11:15:31.112518Z\", \"created_time\": \"2022-02-20T11:08:28.131095Z\", \"created_time_dt\": \"2022-02-20T11:08:28.131095Z\", \"duration\": \"0:07:02\", \"iteration\": null, \"goal\": null, \"run_name\": \"Completed\", \"run_properties\": null}, {\"run_id\": \"AutoML_ed3676e2-c0c7-4066-8772-69c21d2030ac_worker_15\", \"run_number\": 1645355309, \"metric\": null, \"status\": \"Completed\", \"run_type\": \"azureml.scriptrun\", \"training_percent\": null, \"start_time\": \"2022-02-20T11:16:08.066902Z\", \"end_time\": \"2022-02-20T11:16:11.646332Z\", \"created_time\": \"2022-02-20T11:08:29.73648Z\", \"created_time_dt\": \"2022-02-20T11:08:29.73648Z\", \"duration\": \"0:07:41\", \"iteration\": null, \"goal\": null, \"run_name\": \"Completed\", \"run_properties\": null}, {\"run_id\": \"AutoML_ed3676e2-c0c7-4066-8772-69c21d2030ac_16\", \"run_number\": 1645355310, \"metric\": null, \"status\": \"Completed\", \"run_type\": null, \"training_percent\": \"100\", \"start_time\": \"2022-02-20T11:16:35.526533Z\", \"end_time\": \"2022-02-20T11:16:44.86603Z\", \"created_time\": \"2022-02-20T11:08:29.935969Z\", \"created_time_dt\": \"2022-02-20T11:08:29.935969Z\", \"duration\": \"0:08:14\", \"iteration\": \"16\", \"goal\": \"r2_score_max\", \"run_name\": \"MaxAbsScaler, RandomForest\", \"run_properties\": \"copy=True\", \"primary_metric\": 0.14098467, \"best_metric\": 0.20303322}, {\"run_id\": \"AutoML_ed3676e2-c0c7-4066-8772-69c21d2030ac_18\", \"run_number\": 1645355311, \"metric\": null, \"status\": \"Completed\", \"run_type\": null, \"training_percent\": \"100\", \"start_time\": \"2022-02-20T11:16:37.094203Z\", \"end_time\": \"2022-02-20T11:16:46.082741Z\", \"created_time\": \"2022-02-20T11:08:31.063374Z\", \"created_time_dt\": \"2022-02-20T11:08:31.063374Z\", \"duration\": \"0:08:15\", \"iteration\": \"18\", \"goal\": \"r2_score_max\", \"run_name\": \"StandardScalerWrapper, XGBoostRegressor\", \"run_properties\": \"\\n    copy=True,\\n    with_mean=False,\\n    with_std=False\\n\", \"primary_metric\": 0.20299092, \"best_metric\": 0.20303322}, {\"run_id\": \"AutoML_ed3676e2-c0c7-4066-8772-69c21d2030ac_20\", \"run_number\": 1645355370, \"metric\": null, \"status\": \"Completed\", \"run_type\": \"azureml.scriptrun\", \"training_percent\": \"100\", \"start_time\": \"2022-02-20T11:18:45.288034Z\", \"end_time\": \"2022-02-20T11:18:48.886254Z\", \"created_time\": \"2022-02-20T11:09:30.203495Z\", \"created_time_dt\": \"2022-02-20T11:09:30.203495Z\", \"duration\": \"0:09:18\", \"iteration\": \"20\", \"goal\": \"r2_score_max\", \"run_name\": \"StandardScalerWrapper, ElasticNet\", \"run_properties\": \"\\n    copy=True,\\n    with_mean=False,\\n    with_std=False\\n\", \"primary_metric\": 0.15688671, \"best_metric\": 0.20303322}, {\"run_id\": \"AutoML_ed3676e2-c0c7-4066-8772-69c21d2030ac_22\", \"run_number\": 1645355410, \"metric\": null, \"status\": \"Completed\", \"run_type\": \"azureml.scriptrun\", \"training_percent\": \"100\", \"start_time\": \"2022-02-20T11:19:27.791659Z\", \"end_time\": \"2022-02-20T11:19:31.394269Z\", \"created_time\": \"2022-02-20T11:10:10.001479Z\", \"created_time_dt\": \"2022-02-20T11:10:10.001479Z\", \"duration\": \"0:09:21\", \"iteration\": \"22\", \"goal\": \"r2_score_max\", \"run_name\": \"SparseNormalizer, ExtremeRandomTrees\", \"run_properties\": \"copy=True, norm='l1'\", \"primary_metric\": 0.18740589, \"best_metric\": 0.20303322}, {\"run_id\": \"AutoML_ed3676e2-c0c7-4066-8772-69c21d2030ac_23\", \"run_number\": 1645355444, \"metric\": null, \"status\": \"Completed\", \"run_type\": \"azureml.scriptrun\", \"training_percent\": \"100\", \"start_time\": \"2022-02-20T11:20:03.963924Z\", \"end_time\": \"2022-02-20T11:20:07.497618Z\", \"created_time\": \"2022-02-20T11:10:44.81992Z\", \"created_time_dt\": \"2022-02-20T11:10:44.81992Z\", \"duration\": \"0:09:22\", \"iteration\": \"23\", \"goal\": \"r2_score_max\", \"run_name\": \"StandardScalerWrapper, LightGBM\", \"run_properties\": \"\\n    copy=True,\\n    with_mean=False,\\n    with_std=True\\n\", \"primary_metric\": 0.19187431, \"best_metric\": 0.20303322}, {\"run_id\": \"AutoML_ed3676e2-c0c7-4066-8772-69c21d2030ac_24\", \"run_number\": 1645355455, \"metric\": null, \"status\": \"Completed\", \"run_type\": \"azureml.scriptrun\", \"training_percent\": \"100\", \"start_time\": \"2022-02-20T11:20:46.747502Z\", \"end_time\": \"2022-02-20T11:20:50.407762Z\", \"created_time\": \"2022-02-20T11:10:55.160116Z\", \"created_time_dt\": \"2022-02-20T11:10:55.160116Z\", \"duration\": \"0:09:55\", \"iteration\": \"24\", \"goal\": \"r2_score_max\", \"run_name\": \"StandardScalerWrapper, XGBoostRegressor\", \"run_properties\": \"\\n    copy=True,\\n    with_mean=False,\\n    with_std=False\\n\", \"primary_metric\": -0.14409773, \"best_metric\": 0.20303322}, {\"run_id\": \"AutoML_ed3676e2-c0c7-4066-8772-69c21d2030ac_26\", \"run_number\": 1645355512, \"metric\": null, \"status\": \"Completed\", \"run_type\": \"azureml.scriptrun\", \"training_percent\": \"100\", \"start_time\": \"2022-02-20T11:21:31.909962Z\", \"end_time\": \"2022-02-20T11:21:35.47791Z\", \"created_time\": \"2022-02-20T11:11:52.557408Z\", \"created_time_dt\": \"2022-02-20T11:11:52.557408Z\", \"duration\": \"0:09:42\", \"iteration\": \"26\", \"goal\": \"r2_score_max\", \"run_name\": \"MaxAbsScaler, SGD\", \"run_properties\": \"copy=True\", \"primary_metric\": 0.17702679, \"best_metric\": 0.20303322}, {\"run_id\": \"AutoML_ed3676e2-c0c7-4066-8772-69c21d2030ac_27\", \"run_number\": 1645355573, \"metric\": null, \"status\": \"Completed\", \"run_type\": \"azureml.scriptrun\", \"training_percent\": \"100\", \"start_time\": \"2022-02-20T11:22:03.068539Z\", \"end_time\": \"2022-02-20T11:22:06.73403Z\", \"created_time\": \"2022-02-20T11:12:53.805113Z\", \"created_time_dt\": \"2022-02-20T11:12:53.805113Z\", \"duration\": \"0:09:12\", \"iteration\": \"27\", \"goal\": \"r2_score_max\", \"run_name\": \"StandardScalerWrapper, LightGBM\", \"run_properties\": \"\\n    copy=True,\\n    with_mean=False,\\n    with_std=True\\n\", \"primary_metric\": 0.19927919, \"best_metric\": 0.20303322}, {\"run_id\": \"AutoML_ed3676e2-c0c7-4066-8772-69c21d2030ac_28\", \"run_number\": 1645355581, \"metric\": null, \"status\": \"Completed\", \"run_type\": \"azureml.scriptrun\", \"training_percent\": \"100\", \"start_time\": \"2022-02-20T11:22:58.28053Z\", \"end_time\": \"2022-02-20T11:23:01.858979Z\", \"created_time\": \"2022-02-20T11:13:01.648453Z\", \"created_time_dt\": \"2022-02-20T11:13:01.648453Z\", \"duration\": \"0:10:00\", \"iteration\": \"28\", \"goal\": \"r2_score_max\", \"run_name\": \"MaxAbsScaler, ExtremeRandomTrees\", \"run_properties\": \"copy=True\", \"primary_metric\": 0.15450108, \"best_metric\": 0.20303322}, {\"run_id\": \"AutoML_ed3676e2-c0c7-4066-8772-69c21d2030ac_29\", \"run_number\": 1645355609, \"metric\": null, \"status\": \"Completed\", \"run_type\": \"azureml.scriptrun\", \"training_percent\": \"100\", \"start_time\": \"2022-02-20T11:22:53.148642Z\", \"end_time\": \"2022-02-20T11:22:56.824828Z\", \"created_time\": \"2022-02-20T11:13:29.612749Z\", \"created_time_dt\": \"2022-02-20T11:13:29.612749Z\", \"duration\": \"0:09:27\", \"iteration\": \"29\", \"goal\": \"r2_score_max\", \"run_name\": \"StandardScalerWrapper, LightGBM\", \"run_properties\": \"\\n    copy=True,\\n    with_mean=False,\\n    with_std=True\\n\", \"primary_metric\": 0.19459984, \"best_metric\": 0.20303322}, {\"run_id\": \"AutoML_ed3676e2-c0c7-4066-8772-69c21d2030ac_30\", \"run_number\": 1645355654, \"metric\": null, \"status\": \"Completed\", \"run_type\": \"azureml.scriptrun\", \"training_percent\": \"100\", \"start_time\": \"2022-02-20T11:23:28.929467Z\", \"end_time\": \"2022-02-20T11:23:32.487516Z\", \"created_time\": \"2022-02-20T11:14:14.143318Z\", \"created_time_dt\": \"2022-02-20T11:14:14.143318Z\", \"duration\": \"0:09:18\", \"iteration\": \"30\", \"goal\": \"r2_score_max\", \"run_name\": \"StandardScalerWrapper, XGBoostRegressor\", \"run_properties\": \"\\n    copy=True,\\n    with_mean=False,\\n    with_std=False\\n\", \"primary_metric\": -0.12586441, \"best_metric\": 0.20303322}, {\"run_id\": \"AutoML_ed3676e2-c0c7-4066-8772-69c21d2030ac_31\", \"run_number\": 1645355697, \"metric\": null, \"status\": \"Canceled\", \"run_type\": \"azureml.scriptrun\", \"training_percent\": \"100\", \"start_time\": \"2022-02-20T11:23:33.908263Z\", \"end_time\": \"2022-02-20T11:23:34.233939Z\", \"created_time\": \"2022-02-20T11:14:57.512512Z\", \"created_time_dt\": \"2022-02-20T11:14:57.512512Z\", \"duration\": \"0:08:36\", \"iteration\": \"31\", \"goal\": null, \"run_name\": \"Canceled\", \"run_properties\": null}, {\"run_id\": \"AutoML_ed3676e2-c0c7-4066-8772-69c21d2030ac_32\", \"run_number\": 1645355706, \"metric\": null, \"status\": \"Canceled\", \"run_type\": \"azureml.scriptrun\", \"training_percent\": \"100\", \"start_time\": \"2022-02-20T11:23:33.890631Z\", \"end_time\": \"2022-02-20T11:23:34.299522Z\", \"created_time\": \"2022-02-20T11:15:06.568475Z\", \"created_time_dt\": \"2022-02-20T11:15:06.568475Z\", \"duration\": \"0:08:27\", \"iteration\": \"32\", \"goal\": null, \"run_name\": \"Canceled\", \"run_properties\": null}, {\"run_id\": \"AutoML_ed3676e2-c0c7-4066-8772-69c21d2030ac_33\", \"run_number\": 1645355731, \"metric\": null, \"status\": \"Canceled\", \"run_type\": \"azureml.scriptrun\", \"training_percent\": \"100\", \"start_time\": \"2022-02-20T11:23:33.879406Z\", \"end_time\": \"2022-02-20T11:23:34.169316Z\", \"created_time\": \"2022-02-20T11:15:31.491464Z\", \"created_time_dt\": \"2022-02-20T11:15:31.491464Z\", \"duration\": \"0:08:02\", \"iteration\": \"33\", \"goal\": null, \"run_name\": \"Canceled\", \"run_properties\": null}, {\"run_id\": \"AutoML_ed3676e2-c0c7-4066-8772-69c21d2030ac_34\", \"run_number\": 1645355772, \"metric\": null, \"status\": \"Canceled\", \"run_type\": \"azureml.scriptrun\", \"training_percent\": \"100\", \"start_time\": \"2022-02-20T11:23:33.957085Z\", \"end_time\": \"2022-02-20T11:23:34.297096Z\", \"created_time\": \"2022-02-20T11:16:12.342952Z\", \"created_time_dt\": \"2022-02-20T11:16:12.342952Z\", \"duration\": \"0:07:21\", \"iteration\": \"34\", \"goal\": null, \"run_name\": \"Canceled\", \"run_properties\": null}, {\"run_id\": \"AutoML_ed3676e2-c0c7-4066-8772-69c21d2030ac_35\", \"run_number\": 1645355811, \"metric\": null, \"status\": \"Canceled\", \"run_type\": \"azureml.scriptrun\", \"training_percent\": \"100\", \"start_time\": \"2022-02-20T11:23:34.065255Z\", \"end_time\": \"2022-02-20T11:23:34.326485Z\", \"created_time\": \"2022-02-20T11:16:51.358716Z\", \"created_time_dt\": \"2022-02-20T11:16:51.358716Z\", \"duration\": \"0:06:42\", \"iteration\": \"35\", \"goal\": null, \"run_name\": \"Canceled\", \"run_properties\": null}, {\"run_id\": \"AutoML_ed3676e2-c0c7-4066-8772-69c21d2030ac_37\", \"run_number\": 1645355817, \"metric\": null, \"status\": \"Canceled\", \"run_type\": \"azureml.scriptrun\", \"training_percent\": \"100\", \"start_time\": \"2022-02-20T11:23:33.950332Z\", \"end_time\": \"2022-02-20T11:23:34.237819Z\", \"created_time\": \"2022-02-20T11:16:57.803134Z\", \"created_time_dt\": \"2022-02-20T11:16:57.803134Z\", \"duration\": \"0:06:36\", \"iteration\": \"37\", \"goal\": null, \"run_name\": \"Canceled\", \"run_properties\": null}, {\"run_id\": \"AutoML_ed3676e2-c0c7-4066-8772-69c21d2030ac_38\", \"run_number\": 1645355892, \"metric\": null, \"status\": \"Canceled\", \"run_type\": \"azureml.scriptrun\", \"training_percent\": \"100\", \"start_time\": \"2022-02-20T11:23:33.916216Z\", \"end_time\": \"2022-02-20T11:23:34.332888Z\", \"created_time\": \"2022-02-20T11:18:12.324692Z\", \"created_time_dt\": \"2022-02-20T11:18:12.324692Z\", \"duration\": \"0:05:22\", \"iteration\": \"38\", \"goal\": null, \"run_name\": \"Canceled\", \"run_properties\": null}, {\"run_id\": \"AutoML_ed3676e2-c0c7-4066-8772-69c21d2030ac_39\", \"run_number\": 1645355934, \"metric\": null, \"status\": \"Canceled\", \"run_type\": \"azureml.scriptrun\", \"training_percent\": \"100\", \"start_time\": \"2022-02-20T11:23:33.602451Z\", \"end_time\": \"2022-02-20T11:23:33.909203Z\", \"created_time\": \"2022-02-20T11:18:54.159092Z\", \"created_time_dt\": \"2022-02-20T11:18:54.159092Z\", \"duration\": \"0:04:39\", \"iteration\": \"39\", \"goal\": null, \"run_name\": \"Canceled\", \"run_properties\": null}, {\"run_id\": \"AutoML_ed3676e2-c0c7-4066-8772-69c21d2030ac_41\", \"run_number\": 1645355937, \"metric\": null, \"status\": \"Canceled\", \"run_type\": \"azureml.scriptrun\", \"training_percent\": \"100\", \"start_time\": \"2022-02-20T11:23:33.845494Z\", \"end_time\": \"2022-02-20T11:23:34.236333Z\", \"created_time\": \"2022-02-20T11:18:57.586258Z\", \"created_time_dt\": \"2022-02-20T11:18:57.586258Z\", \"duration\": \"0:04:36\", \"iteration\": \"41\", \"goal\": null, \"run_name\": \"Canceled\", \"run_properties\": null}, {\"run_id\": \"AutoML_ed3676e2-c0c7-4066-8772-69c21d2030ac_42\", \"run_number\": 1645355973, \"metric\": null, \"status\": \"Canceled\", \"run_type\": \"azureml.scriptrun\", \"training_percent\": \"100\", \"start_time\": \"2022-02-20T11:23:33.874857Z\", \"end_time\": \"2022-02-20T11:23:34.185023Z\", \"created_time\": \"2022-02-20T11:19:33.380728Z\", \"created_time_dt\": \"2022-02-20T11:19:33.380728Z\", \"duration\": \"0:04:00\", \"iteration\": \"42\", \"goal\": null, \"run_name\": \"Canceled\", \"run_properties\": null}, {\"run_id\": \"AutoML_ed3676e2-c0c7-4066-8772-69c21d2030ac_43\", \"run_number\": 1645356009, \"metric\": null, \"status\": \"Canceled\", \"run_type\": \"azureml.scriptrun\", \"training_percent\": \"100\", \"start_time\": \"2022-02-20T11:23:34.005422Z\", \"end_time\": \"2022-02-20T11:23:34.354019Z\", \"created_time\": \"2022-02-20T11:20:09.476287Z\", \"created_time_dt\": \"2022-02-20T11:20:09.476287Z\", \"duration\": \"0:03:24\", \"iteration\": \"43\", \"goal\": null, \"run_name\": \"Canceled\", \"run_properties\": null}, {\"run_id\": \"AutoML_ed3676e2-c0c7-4066-8772-69c21d2030ac_44\", \"run_number\": 1645356052, \"metric\": null, \"status\": \"Canceled\", \"run_type\": \"azureml.scriptrun\", \"training_percent\": \"100\", \"start_time\": \"2022-02-20T11:23:33.870187Z\", \"end_time\": \"2022-02-20T11:23:34.162843Z\", \"created_time\": \"2022-02-20T11:20:52.357699Z\", \"created_time_dt\": \"2022-02-20T11:20:52.357699Z\", \"duration\": \"0:02:41\", \"iteration\": \"44\", \"goal\": null, \"run_name\": \"Canceled\", \"run_properties\": null}, {\"run_id\": \"AutoML_ed3676e2-c0c7-4066-8772-69c21d2030ac_45\", \"run_number\": 1645356056, \"metric\": null, \"status\": \"Canceled\", \"run_type\": \"azureml.scriptrun\", \"training_percent\": \"100\", \"start_time\": \"2022-02-20T11:23:34.082606Z\", \"end_time\": \"2022-02-20T11:23:34.432254Z\", \"created_time\": \"2022-02-20T11:20:56.389239Z\", \"created_time_dt\": \"2022-02-20T11:20:56.389239Z\", \"duration\": \"0:02:38\", \"iteration\": \"45\", \"goal\": null, \"run_name\": \"Canceled\", \"run_properties\": null}, {\"run_id\": \"AutoML_ed3676e2-c0c7-4066-8772-69c21d2030ac_46\", \"run_number\": 1645356097, \"metric\": null, \"status\": \"Canceled\", \"run_type\": \"azureml.scriptrun\", \"training_percent\": \"100\", \"start_time\": \"2022-02-20T11:23:34.060741Z\", \"end_time\": \"2022-02-20T11:23:34.339442Z\", \"created_time\": \"2022-02-20T11:21:37.570554Z\", \"created_time_dt\": \"2022-02-20T11:21:37.570554Z\", \"duration\": \"0:01:56\", \"iteration\": \"46\", \"goal\": null, \"run_name\": \"Canceled\", \"run_properties\": null}, {\"run_id\": \"AutoML_ed3676e2-c0c7-4066-8772-69c21d2030ac_47\", \"run_number\": 1645356128, \"metric\": null, \"status\": \"Canceled\", \"run_type\": \"azureml.scriptrun\", \"training_percent\": \"100\", \"start_time\": \"2022-02-20T11:23:33.97262Z\", \"end_time\": \"2022-02-20T11:23:34.25425Z\", \"created_time\": \"2022-02-20T11:22:08.601698Z\", \"created_time_dt\": \"2022-02-20T11:22:08.601698Z\", \"duration\": \"0:01:25\", \"iteration\": \"47\", \"goal\": null, \"run_name\": \"Canceled\", \"run_properties\": null}, {\"run_id\": \"AutoML_ed3676e2-c0c7-4066-8772-69c21d2030ac_48\", \"run_number\": 1645356178, \"metric\": null, \"status\": \"Canceled\", \"run_type\": \"azureml.scriptrun\", \"training_percent\": \"100\", \"start_time\": \"2022-02-20T11:23:34.040257Z\", \"end_time\": \"2022-02-20T11:23:34.342103Z\", \"created_time\": \"2022-02-20T11:22:58.751145Z\", \"created_time_dt\": \"2022-02-20T11:22:58.751145Z\", \"duration\": \"0:00:35\", \"iteration\": \"48\", \"goal\": null, \"run_name\": \"Canceled\", \"run_properties\": null}, {\"run_id\": \"AutoML_ed3676e2-c0c7-4066-8772-69c21d2030ac_49\", \"run_number\": 1645356183, \"metric\": null, \"status\": \"Canceled\", \"run_type\": \"azureml.scriptrun\", \"training_percent\": \"100\", \"start_time\": \"2022-02-20T11:23:33.878865Z\", \"end_time\": \"2022-02-20T11:23:34.223539Z\", \"created_time\": \"2022-02-20T11:23:03.768432Z\", \"created_time_dt\": \"2022-02-20T11:23:03.768432Z\", \"duration\": \"0:00:30\", \"iteration\": \"49\", \"goal\": null, \"run_name\": \"Canceled\", \"run_properties\": null}, {\"run_id\": \"AutoML_ed3676e2-c0c7-4066-8772-69c21d2030ac_50\", \"run_number\": 1645356217, \"metric\": null, \"status\": \"Completed\", \"run_type\": \"azureml.scriptrun\", \"training_percent\": \"100\", \"start_time\": \"2022-02-20T11:24:30.451673Z\", \"end_time\": \"2022-02-20T11:24:33.94717Z\", \"created_time\": \"2022-02-20T11:23:37.210715Z\", \"created_time_dt\": \"2022-02-20T11:23:37.210715Z\", \"duration\": \"0:00:56\", \"iteration\": \"50\", \"goal\": \"r2_score_max\", \"run_name\": \"VotingEnsemble\", \"run_properties\": \"\\n    estimators=[('1', Pipeline(\\n        memory=None,\\n        steps=[('maxabsscaler', MaxAbsScaler(\\n            copy=True\\n        \", \"primary_metric\": 0.2178814, \"best_metric\": 0.2178814}], \"children_metrics\": {\"categories\": [0], \"series\": {\"explained_variance\": [{\"categories\": [\"0\", \"1\", \"4\", \"5\", \"9\", \"10\", \"13\", \"16\", \"18\", \"20\", \"22\", \"23\", \"24\", \"26\", \"27\", \"28\", \"29\", \"30\", \"50\"], \"mode\": \"markers\", \"name\": \"explained_variance\", \"stepped\": false, \"type\": \"scatter\", \"data\": [0.2017967881258954, 0.20369064886273675, 0.2011562804740975, 0.19545413293214486, 0.19137272277523537, 0.19208544777442327, 0.18205455002525073, 0.14176702640138933, 0.20363853796352727, 0.15766992819770326, 0.18817123973150357, 0.19256065887168988, 0.1513452027447985, 0.1841734661585016, 0.1999082538260959, 0.15520176199562336, 0.1952056863932496, 0.1689440628255574, 0.21849830585889152]}, {\"categories\": [\"0\", \"1\", \"4\", \"5\", \"9\", \"10\", \"13\", \"16\", \"18\", \"20\", \"22\", \"23\", \"24\", \"26\", \"27\", \"28\", \"29\", \"30\", \"50\"], \"mode\": \"lines\", \"name\": \"explained_variance_max\", \"stepped\": true, \"type\": \"scatter\", \"data\": [0.2017967881258954, 0.20369064886273675, 0.20369064886273675, 0.20369064886273675, 0.20369064886273675, 0.20369064886273675, 0.20369064886273675, 0.20369064886273675, 0.20369064886273675, 0.20369064886273675, 0.20369064886273675, 0.20369064886273675, 0.20369064886273675, 0.20369064886273675, 0.20369064886273675, 0.20369064886273675, 0.20369064886273675, 0.20369064886273675, 0.21849830585889152]}], \"normalized_mean_absolute_error\": [{\"categories\": [\"0\", \"1\", \"4\", \"5\", \"9\", \"10\", \"13\", \"16\", \"18\", \"20\", \"22\", \"23\", \"24\", \"26\", \"27\", \"28\", \"29\", \"30\", \"50\"], \"mode\": \"markers\", \"name\": \"normalized_mean_absolute_error\", \"stepped\": false, \"type\": \"scatter\", \"data\": [0.0639681085165042, 0.06393617716197839, 0.06394785209100759, 0.06450084247747709, 0.06412872379517309, 0.06451761748567825, 0.06533768016361739, 0.06836302094192898, 0.06352982485972691, 0.06726941193493058, 0.0648678355291529, 0.06488434638989571, 0.07117266459400454, 0.06692604816514684, 0.06415101528137389, 0.06698668412482574, 0.06441125217145681, 0.07060097645544053, 0.06281714311249487]}, {\"categories\": [\"0\", \"1\", \"4\", \"5\", \"9\", \"10\", \"13\", \"16\", \"18\", \"20\", \"22\", \"23\", \"24\", \"26\", \"27\", \"28\", \"29\", \"30\", \"50\"], \"mode\": \"lines\", \"name\": \"normalized_mean_absolute_error_min\", \"stepped\": true, \"type\": \"scatter\", \"data\": [0.0639681085165042, 0.06393617716197839, 0.06393617716197839, 0.06393617716197839, 0.06393617716197839, 0.06393617716197839, 0.06393617716197839, 0.06393617716197839, 0.06352982485972691, 0.06352982485972691, 0.06352982485972691, 0.06352982485972691, 0.06352982485972691, 0.06352982485972691, 0.06352982485972691, 0.06352982485972691, 0.06352982485972691, 0.06352982485972691, 0.06281714311249487]}], \"spearman_correlation\": [{\"categories\": [\"0\", \"1\", \"4\", \"5\", \"9\", \"10\", \"13\", \"16\", \"18\", \"20\", \"22\", \"23\", \"24\", \"26\", \"27\", \"28\", \"29\", \"30\", \"50\"], \"mode\": \"markers\", \"name\": \"spearman_correlation\", \"stepped\": false, \"type\": \"scatter\", \"data\": [0.5671540510532669, 0.5665655919213914, 0.5652341524336068, 0.5584804943394501, 0.5617778070712338, 0.5526475163291706, 0.5420702352831274, 0.5240798866809897, 0.5723064939762492, 0.5417769657802991, 0.5468126019125534, 0.5536054790283689, 0.5535696249835043, 0.5437327956477755, 0.5628880105765539, 0.5216419212448109, 0.5522607199329195, 0.5612500269708469, 0.5874730184000994]}, {\"categories\": [\"0\", \"1\", \"4\", \"5\", \"9\", \"10\", \"13\", \"16\", \"18\", \"20\", \"22\", \"23\", \"24\", \"26\", \"27\", \"28\", \"29\", \"30\", \"50\"], \"mode\": \"lines\", \"name\": \"spearman_correlation_max\", \"stepped\": true, \"type\": \"scatter\", \"data\": [0.5671540510532669, 0.5671540510532669, 0.5671540510532669, 0.5671540510532669, 0.5671540510532669, 0.5671540510532669, 0.5671540510532669, 0.5671540510532669, 0.5723064939762492, 0.5723064939762492, 0.5723064939762492, 0.5723064939762492, 0.5723064939762492, 0.5723064939762492, 0.5723064939762492, 0.5723064939762492, 0.5723064939762492, 0.5723064939762492, 0.5874730184000994]}], \"root_mean_squared_error\": [{\"categories\": [\"0\", \"1\", \"4\", \"5\", \"9\", \"10\", \"13\", \"16\", \"18\", \"20\", \"22\", \"23\", \"24\", \"26\", \"27\", \"28\", \"29\", \"30\", \"50\"], \"mode\": \"markers\", \"name\": \"root_mean_squared_error\", \"stepped\": false, \"type\": \"scatter\", \"data\": [307.6872695258378, 307.33966438361097, 307.7964566131106, 308.92285468701203, 309.67717606922645, 309.5363873551547, 311.49436073470713, 319.0946521261261, 307.3307422439812, 316.1151316085491, 310.33029440098335, 309.48606317855587, 368.2538651441683, 312.2496341422552, 308.05516114532026, 316.5796939532752, 308.95793558298766, 365.3078969201505, 304.467643511866]}, {\"categories\": [\"0\", \"1\", \"4\", \"5\", \"9\", \"10\", \"13\", \"16\", \"18\", \"20\", \"22\", \"23\", \"24\", \"26\", \"27\", \"28\", \"29\", \"30\", \"50\"], \"mode\": \"lines\", \"name\": \"root_mean_squared_error_min\", \"stepped\": true, \"type\": \"scatter\", \"data\": [307.6872695258378, 307.33966438361097, 307.33966438361097, 307.33966438361097, 307.33966438361097, 307.33966438361097, 307.33966438361097, 307.33966438361097, 307.3307422439812, 307.3307422439812, 307.3307422439812, 307.3307422439812, 307.3307422439812, 307.3307422439812, 307.3307422439812, 307.3307422439812, 307.3307422439812, 307.3307422439812, 304.467643511866]}], \"root_mean_squared_log_error\": [{\"categories\": [\"0\", \"1\", \"4\", \"5\", \"9\", \"10\", \"13\", \"16\", \"18\", \"20\", \"22\", \"23\", \"24\", \"26\", \"27\", \"28\", \"29\", \"30\", \"50\"], \"mode\": \"markers\", \"name\": \"root_mean_squared_log_error\", \"stepped\": false, \"type\": \"scatter\", \"data\": [0.47819139634883473, 0.4800483127885591, 0.4801325044151533, 0.4851467908278879, 0.4804930194956952, 0.48417147932815324, 0.49039993392187753, 0.5158202432800137, 0.4755389010102626, 0.5089574110807757, 0.48699215055844347, 0.48745947773500764, 0.5599610704019717, 0.49932038810888846, 0.4821310164881725, 0.501126205649179, 0.48412518141288297, 0.559781631453528, 0.4711884731852691]}, {\"categories\": [\"0\", \"1\", \"4\", \"5\", \"9\", \"10\", \"13\", \"16\", \"18\", \"20\", \"22\", \"23\", \"24\", \"26\", \"27\", \"28\", \"29\", \"30\", \"50\"], \"mode\": \"lines\", \"name\": \"root_mean_squared_log_error_min\", \"stepped\": true, \"type\": \"scatter\", \"data\": [0.47819139634883473, 0.47819139634883473, 0.47819139634883473, 0.47819139634883473, 0.47819139634883473, 0.47819139634883473, 0.47819139634883473, 0.47819139634883473, 0.4755389010102626, 0.4755389010102626, 0.4755389010102626, 0.4755389010102626, 0.4755389010102626, 0.4755389010102626, 0.4755389010102626, 0.4755389010102626, 0.4755389010102626, 0.4755389010102626, 0.4711884731852691]}], \"median_absolute_error\": [{\"categories\": [\"0\", \"1\", \"4\", \"5\", \"9\", \"10\", \"13\", \"16\", \"18\", \"20\", \"22\", \"23\", \"24\", \"26\", \"27\", \"28\", \"29\", \"30\", \"50\"], \"mode\": \"markers\", \"name\": \"median_absolute_error\", \"stepped\": false, \"type\": \"scatter\", \"data\": [145.02400362298056, 146.31448716035675, 146.05331787104467, 150.44524931141734, 145.70006138406177, 147.85686301187883, 150.74957712754656, 168.27159095320837, 143.0226406790739, 162.32203109232313, 149.34545794714052, 151.24723720829792, 122.0567796741949, 157.13063070263811, 147.84921560142584, 157.24923549047796, 146.80921824822775, 123.79883765370353, 142.1446307704718]}, {\"categories\": [\"0\", \"1\", \"4\", \"5\", \"9\", \"10\", \"13\", \"16\", \"18\", \"20\", \"22\", \"23\", \"24\", \"26\", \"27\", \"28\", \"29\", \"30\", \"50\"], \"mode\": \"lines\", \"name\": \"median_absolute_error_min\", \"stepped\": true, \"type\": \"scatter\", \"data\": [145.02400362298056, 145.02400362298056, 145.02400362298056, 145.02400362298056, 145.02400362298056, 145.02400362298056, 145.02400362298056, 145.02400362298056, 143.0226406790739, 143.0226406790739, 143.0226406790739, 143.0226406790739, 122.0567796741949, 122.0567796741949, 122.0567796741949, 122.0567796741949, 122.0567796741949, 122.0567796741949, 122.0567796741949]}], \"normalized_root_mean_squared_error\": [{\"categories\": [\"0\", \"1\", \"4\", \"5\", \"9\", \"10\", \"13\", \"16\", \"18\", \"20\", \"22\", \"23\", \"24\", \"26\", \"27\", \"28\", \"29\", \"30\", \"50\"], \"mode\": \"markers\", \"name\": \"normalized_root_mean_squared_error\", \"stepped\": false, \"type\": \"scatter\", \"data\": [0.09851864722630524, 0.09840734724163618, 0.09855360793218454, 0.09891427028474173, 0.09915579708649783, 0.0991107178289892, 0.0997376429824279, 0.1021711867151999, 0.09840449045419727, 0.10121717151909815, 0.09936491959787941, 0.09909460448829449, 0.11791151673506312, 0.09997947461398128, 0.09863644275529532, 0.10136592012941675, 0.09892550286651325, 0.11696824467623151, 0.0974877524481107]}, {\"categories\": [\"0\", \"1\", \"4\", \"5\", \"9\", \"10\", \"13\", \"16\", \"18\", \"20\", \"22\", \"23\", \"24\", \"26\", \"27\", \"28\", \"29\", \"30\", \"50\"], \"mode\": \"lines\", \"name\": \"normalized_root_mean_squared_error_min\", \"stepped\": true, \"type\": \"scatter\", \"data\": [0.09851864722630524, 0.09840734724163618, 0.09840734724163618, 0.09840734724163618, 0.09840734724163618, 0.09840734724163618, 0.09840734724163618, 0.09840734724163618, 0.09840449045419727, 0.09840449045419727, 0.09840449045419727, 0.09840449045419727, 0.09840449045419727, 0.09840449045419727, 0.09840449045419727, 0.09840449045419727, 0.09840449045419727, 0.09840449045419727, 0.0974877524481107]}], \"normalized_median_absolute_error\": [{\"categories\": [\"0\", \"1\", \"4\", \"5\", \"9\", \"10\", \"13\", \"16\", \"18\", \"20\", \"22\", \"23\", \"24\", \"26\", \"27\", \"28\", \"29\", \"30\", \"50\"], \"mode\": \"markers\", \"name\": \"normalized_median_absolute_error\", \"stepped\": false, \"type\": \"scatter\", \"data\": [0.04643535845437066, 0.046848559470343935, 0.0467649354545706, 0.04817119169937069, 0.04665182596104134, 0.04734241409956094, 0.048268634680370806, 0.0538790231161519, 0.04579454035960063, 0.05197402850916144, 0.04781904857168556, 0.048427980882798066, 0.03908146358096591, 0.05031178962488764, 0.04733996546873597, 0.05034976579228173, 0.04700696783606203, 0.03963925459973462, 0.04551340962390242]}, {\"categories\": [\"0\", \"1\", \"4\", \"5\", \"9\", \"10\", \"13\", \"16\", \"18\", \"20\", \"22\", \"23\", \"24\", \"26\", \"27\", \"28\", \"29\", \"30\", \"50\"], \"mode\": \"lines\", \"name\": \"normalized_median_absolute_error_min\", \"stepped\": true, \"type\": \"scatter\", \"data\": [0.04643535845437066, 0.04643535845437066, 0.04643535845437066, 0.04643535845437066, 0.04643535845437066, 0.04643535845437066, 0.04643535845437066, 0.04643535845437066, 0.04579454035960063, 0.04579454035960063, 0.04579454035960063, 0.04579454035960063, 0.03908146358096591, 0.03908146358096591, 0.03908146358096591, 0.03908146358096591, 0.03908146358096591, 0.03908146358096591, 0.03908146358096591]}], \"mean_absolute_error\": [{\"categories\": [\"0\", \"1\", \"4\", \"5\", \"9\", \"10\", \"13\", \"16\", \"18\", \"20\", \"22\", \"23\", \"24\", \"26\", \"27\", \"28\", \"29\", \"30\", \"50\"], \"mode\": \"markers\", \"name\": \"mean_absolute_error\", \"stepped\": false, \"type\": \"scatter\", \"data\": [199.78119067108315, 199.6814646642518, 199.71792707148165, 201.4449920168214, 200.28281425127955, 201.497382671941, 204.05855107324413, 213.50710593743761, 198.41237060068747, 210.09161477139207, 202.5911617337654, 202.64272742008478, 222.2820090444801, 209.01924254792686, 200.3524336250316, 209.20861698001607, 201.16518918343445, 220.49654845070023, 196.1865675976984]}, {\"categories\": [\"0\", \"1\", \"4\", \"5\", \"9\", \"10\", \"13\", \"16\", \"18\", \"20\", \"22\", \"23\", \"24\", \"26\", \"27\", \"28\", \"29\", \"30\", \"50\"], \"mode\": \"lines\", \"name\": \"mean_absolute_error_min\", \"stepped\": true, \"type\": \"scatter\", \"data\": [199.78119067108315, 199.6814646642518, 199.6814646642518, 199.6814646642518, 199.6814646642518, 199.6814646642518, 199.6814646642518, 199.6814646642518, 198.41237060068747, 198.41237060068747, 198.41237060068747, 198.41237060068747, 198.41237060068747, 198.41237060068747, 198.41237060068747, 198.41237060068747, 198.41237060068747, 198.41237060068747, 196.1865675976984]}], \"normalized_root_mean_squared_log_error\": [{\"categories\": [\"0\", \"1\", \"4\", \"5\", \"9\", \"10\", \"13\", \"16\", \"18\", \"20\", \"22\", \"23\", \"24\", \"26\", \"27\", \"28\", \"29\", \"30\", \"50\"], \"mode\": \"markers\", \"name\": \"normalized_root_mean_squared_log_error\", \"stepped\": false, \"type\": \"scatter\", \"data\": [0.1021540159766471, 0.10255070122255339, 0.10256868672550026, 0.10363986763387509, 0.10264570204526278, 0.10343151594188141, 0.10476207449005943, 0.11019250822042298, 0.10158737455803651, 0.10872643025356934, 0.10403408406862734, 0.10413391720704337, 0.11962212739272096, 0.10666771358456566, 0.1029956204507733, 0.10705348278758826, 0.10342162551304408, 0.11958379460516746, 0.10065801096652714]}, {\"categories\": [\"0\", \"1\", \"4\", \"5\", \"9\", \"10\", \"13\", \"16\", \"18\", \"20\", \"22\", \"23\", \"24\", \"26\", \"27\", \"28\", \"29\", \"30\", \"50\"], \"mode\": \"lines\", \"name\": \"normalized_root_mean_squared_log_error_min\", \"stepped\": true, \"type\": \"scatter\", \"data\": [0.1021540159766471, 0.1021540159766471, 0.1021540159766471, 0.1021540159766471, 0.1021540159766471, 0.1021540159766471, 0.1021540159766471, 0.1021540159766471, 0.10158737455803651, 0.10158737455803651, 0.10158737455803651, 0.10158737455803651, 0.10158737455803651, 0.10158737455803651, 0.10158737455803651, 0.10158737455803651, 0.10158737455803651, 0.10158737455803651, 0.10065801096652714]}], \"r2_score\": [{\"categories\": [\"0\", \"1\", \"4\", \"5\", \"9\", \"10\", \"13\", \"16\", \"18\", \"20\", \"22\", \"23\", \"24\", \"26\", \"27\", \"28\", \"29\", \"30\", \"50\"], \"mode\": \"markers\", \"name\": \"r2_score\", \"stepped\": false, \"type\": \"scatter\", \"data\": [0.2011653940128612, 0.20303321999423501, 0.20061407355786826, 0.1947847512011715, 0.19080300191901073, 0.19150877971647046, 0.1814033410911316, 0.14098466702843304, 0.2029909152702108, 0.15688670511319808, 0.18740589377802813, 0.1918743102532408, -0.14409773322627284, 0.1770267929875617, 0.19927918933873534, 0.1545010835918818, 0.19459983549348359, -0.12586441334646303, 0.21788140173435122]}, {\"categories\": [\"0\", \"1\", \"4\", \"5\", \"9\", \"10\", \"13\", \"16\", \"18\", \"20\", \"22\", \"23\", \"24\", \"26\", \"27\", \"28\", \"29\", \"30\", \"50\"], \"mode\": \"lines\", \"name\": \"r2_score_max\", \"stepped\": true, \"type\": \"scatter\", \"data\": [0.2011653940128612, 0.20303321999423501, 0.20303321999423501, 0.20303321999423501, 0.20303321999423501, 0.20303321999423501, 0.20303321999423501, 0.20303321999423501, 0.20303321999423501, 0.20303321999423501, 0.20303321999423501, 0.20303321999423501, 0.20303321999423501, 0.20303321999423501, 0.20303321999423501, 0.20303321999423501, 0.20303321999423501, 0.20303321999423501, 0.21788140173435122]}], \"mean_absolute_percentage_error\": [{\"categories\": [\"0\", \"1\", \"4\", \"5\", \"9\", \"10\", \"13\", \"16\", \"18\", \"20\", \"22\", \"23\", \"24\", \"26\", \"27\", \"28\", \"29\", \"30\", \"50\"], \"mode\": \"markers\", \"name\": \"mean_absolute_percentage_error\", \"stepped\": false, \"type\": \"scatter\", \"data\": [44.122562215086035, 44.69722708966537, 44.55627004300557, 45.532409020850565, 44.402738074608095, 45.11083006782682, 46.10997084085369, 50.33775811325415, 43.78528061859756, 49.10130480309017, 45.541717999915, 45.967219430266994, 34.57655786739671, 48.14811309916192, 45.016554316330335, 47.551501443378484, 44.93125207601257, 34.24800830238034, 43.37208646537066]}, {\"categories\": [\"0\", \"1\", \"4\", \"5\", \"9\", \"10\", \"13\", \"16\", \"18\", \"20\", \"22\", \"23\", \"24\", \"26\", \"27\", \"28\", \"29\", \"30\", \"50\"], \"mode\": \"lines\", \"name\": \"mean_absolute_percentage_error_min\", \"stepped\": true, \"type\": \"scatter\", \"data\": [44.122562215086035, 44.122562215086035, 44.122562215086035, 44.122562215086035, 44.122562215086035, 44.122562215086035, 44.122562215086035, 44.122562215086035, 43.78528061859756, 43.78528061859756, 43.78528061859756, 43.78528061859756, 34.57655786739671, 34.57655786739671, 34.57655786739671, 34.57655786739671, 34.57655786739671, 34.24800830238034, 34.24800830238034]}]}, \"metricName\": null, \"primaryMetricName\": \"r2_score\", \"showLegend\": false}, \"run_metrics\": [{\"name\": \"experiment_status\", \"run_id\": \"AutoML_ed3676e2-c0c7-4066-8772-69c21d2030ac\", \"categories\": [0, 1, 2, 3, 4, 5, 6, 7, 8, 9, 10, 11, 12, 13], \"series\": [{\"data\": [\"DatasetEvaluation\", \"FeaturesGeneration\", \"DatasetFeaturization\", \"DatasetFeaturizationCompleted\", \"DatasetCrossValidationSplit\", \"ModelSelection\", \"BestRunExplainModel\", \"ModelExplanationDataSetSetup\", \"PickSurrogateModel\", \"EngineeredFeatureExplanations\", \"EngineeredFeatureExplanations\", \"RawFeaturesExplanations\", \"RawFeaturesExplanations\", \"BestRunExplainModel\"]}]}, {\"name\": \"experiment_status_description\", \"run_id\": \"AutoML_ed3676e2-c0c7-4066-8772-69c21d2030ac\", \"categories\": [0, 1, 2, 3, 4, 5, 6, 7, 8, 9, 10, 11, 12, 13], \"series\": [{\"data\": [\"Gathering dataset statistics.\", \"Generating features for the dataset.\", \"Beginning to fit featurizers and featurize the dataset.\", \"Completed fit featurizers and featurizing the dataset.\", \"Generating individually featurized CV splits.\", \"Beginning model selection.\", \"Best run model explanations started\", \"Model explanations data setup completed\", \"Choosing LightGBM as the surrogate model for explanations\", \"Computation of engineered features started\", \"Computation of engineered features completed\", \"Computation of raw features started\", \"Computation of raw features completed\", \"Best run model explanations completed\"]}]}, {\"name\": \"r2_score\", \"run_id\": \"AutoML_ed3676e2-c0c7-4066-8772-69c21d2030ac\", \"categories\": [0], \"series\": [{\"data\": [0.21788140173435122]}]}, {\"name\": \"normalized_mean_absolute_error\", \"run_id\": \"AutoML_ed3676e2-c0c7-4066-8772-69c21d2030ac\", \"categories\": [0], \"series\": [{\"data\": [0.06281714311249487]}]}, {\"name\": \"mean_absolute_percentage_error\", \"run_id\": \"AutoML_ed3676e2-c0c7-4066-8772-69c21d2030ac\", \"categories\": [0], \"series\": [{\"data\": [43.37208646537066]}]}, {\"name\": \"root_mean_squared_log_error\", \"run_id\": \"AutoML_ed3676e2-c0c7-4066-8772-69c21d2030ac\", \"categories\": [0], \"series\": [{\"data\": [0.4711884731852691]}]}, {\"name\": \"normalized_root_mean_squared_log_error\", \"run_id\": \"AutoML_ed3676e2-c0c7-4066-8772-69c21d2030ac\", \"categories\": [0], \"series\": [{\"data\": [0.10065801096652714]}]}, {\"name\": \"median_absolute_error\", \"run_id\": \"AutoML_ed3676e2-c0c7-4066-8772-69c21d2030ac\", \"categories\": [0], \"series\": [{\"data\": [142.1446307704718]}]}, {\"name\": \"root_mean_squared_error\", \"run_id\": \"AutoML_ed3676e2-c0c7-4066-8772-69c21d2030ac\", \"categories\": [0], \"series\": [{\"data\": [304.467643511866]}]}, {\"name\": \"spearman_correlation\", \"run_id\": \"AutoML_ed3676e2-c0c7-4066-8772-69c21d2030ac\", \"categories\": [0], \"series\": [{\"data\": [0.5874730184000994]}]}, {\"name\": \"explained_variance\", \"run_id\": \"AutoML_ed3676e2-c0c7-4066-8772-69c21d2030ac\", \"categories\": [0], \"series\": [{\"data\": [0.21849830585889152]}]}, {\"name\": \"normalized_root_mean_squared_error\", \"run_id\": \"AutoML_ed3676e2-c0c7-4066-8772-69c21d2030ac\", \"categories\": [0], \"series\": [{\"data\": [0.0974877524481107]}]}, {\"name\": \"mean_absolute_error\", \"run_id\": \"AutoML_ed3676e2-c0c7-4066-8772-69c21d2030ac\", \"categories\": [0], \"series\": [{\"data\": [196.1865675976984]}]}, {\"name\": \"normalized_median_absolute_error\", \"run_id\": \"AutoML_ed3676e2-c0c7-4066-8772-69c21d2030ac\", \"categories\": [0], \"series\": [{\"data\": [0.04551340962390242]}]}], \"run_logs\": \"\\nRun is completed.\", \"graph\": {}, \"widget_settings\": {\"childWidgetDisplay\": \"popup\", \"send_telemetry\": false, \"log_level\": \"INFO\", \"sdk_version\": \"1.38.0\"}, \"loading\": false}"
          },
          "metadata": {}
        }
      ],
      "execution_count": 73,
      "metadata": {
        "gather": {
          "logged": 1645366260568
        },
        "jupyter": {
          "outputs_hidden": false,
          "source_hidden": false
        },
        "nteract": {
          "transient": {
            "deleting": false
          }
        }
      }
    },
    {
      "cell_type": "markdown",
      "source": [
        "## Best Model\n",
        "\n",
        "TODO: In the cell below, get the best model from the automl experiments and display all the properties of the model.\n",
        "\n"
      ],
      "metadata": {}
    },
    {
      "cell_type": "code",
      "source": [
        "best_run_automl, fitted_model_automl=remote_run.get_output()\r\n",
        "model_name=best_run_automl.properties['model_name']\r\n",
        "fitted_model_automl.steps"
      ],
      "outputs": [
        {
          "output_type": "execute_result",
          "execution_count": 9,
          "data": {
            "text/plain": "[('datatransformer',\n  DataTransformer(\n      task='regression',\n      is_onnx_compatible=False,\n      enable_feature_sweeping=True,\n      enable_dnn=False,\n      force_text_dnn=False,\n      feature_sweeping_timeout=86400,\n      featurization_config=None,\n      is_cross_validation=True,\n      feature_sweeping_config={}\n  )),\n ('prefittedsoftvotingregressor',\n  PreFittedSoftVotingRegressor(\n      estimators=[('1', Pipeline(\n          memory=None,\n          steps=[('maxabsscaler', MaxAbsScaler(\n              copy=True\n          )), ('xgboostregressor', XGBoostRegressor(\n              random_state=0,\n              n_jobs=1,\n              problem_info=ProblemInfo(\n                  gpu_training_param_dict={'processing_unit_type': 'cpu'}\n              ),\n              tree_method='auto'\n          ))],\n          verbose=False\n      )), ('18', Pipeline(\n          memory=None,\n          steps=[('standardscalerwrapper', StandardScalerWrapper(\n              copy=True,\n              with_mean=False,\n              with_std=False\n          )), ('xgboostregressor', XGBoostRegressor(\n              random_state=0,\n              n_jobs=1,\n              problem_info=ProblemInfo(\n                  gpu_training_param_dict={'processing_unit_type': 'cpu'}\n              ),\n              booster='gbtree',\n              colsample_bytree=0.9,\n              eta=0.4,\n              gamma=0.1,\n              max_depth=6,\n              max_leaves=63,\n              n_estimators=50,\n              objective='reg:linear',\n              reg_alpha=0,\n              reg_lambda=1.5625,\n              subsample=0.6,\n              tree_method='auto'\n          ))],\n          verbose=False\n      )), ('0', Pipeline(\n          memory=None,\n          steps=[('maxabsscaler', MaxAbsScaler(\n              copy=True\n          )), ('lightgbmregressor', LightGBMRegressor(\n              min_data_in_leaf=20,\n              random_state=None,\n              n_jobs=1,\n              problem_info=ProblemInfo(\n                  gpu_training_param_dict={'processing_unit_type': 'cpu'}\n              )\n          ))],\n          verbose=False\n      )), ('4', Pipeline(\n          memory=None,\n          steps=[('maxabsscaler', MaxAbsScaler(\n              copy=True\n          )), ('lightgbmregressor', LightGBMRegressor(\n              boosting_type='gbdt',\n              colsample_bytree=0.9,\n              learning_rate=0.15789684210526317,\n              max_bin=255,\n              max_depth=9,\n              min_data_in_leaf=0.012303157373426393,\n              min_split_gain=0.10526315789473684,\n              n_estimators=25,\n              num_leaves=63,\n              reg_alpha=1.05,\n              reg_lambda=1.125,\n              subsample=0.7999999999999999,\n              subsample_freq=4,\n              random_state=None,\n              n_jobs=1,\n              problem_info=ProblemInfo(\n                  gpu_training_param_dict={'processing_unit_type': 'cpu'}\n              )\n          ))],\n          verbose=False\n      )), ('27', Pipeline(\n          memory=None,\n          steps=[('standardscalerwrapper', StandardScalerWrapper(\n              copy=True,\n              with_mean=False,\n              with_std=True\n          )), ('lightgbmregressor', LightGBMRegressor(\n              boosting_type='gbdt',\n              colsample_bytree=0.7000000000000001,\n              learning_rate=0.1894742105263158,\n              max_bin=63,\n              max_depth=10,\n              min_data_in_leaf=0.002308832631230992,\n              min_split_gain=0.7894736842105263,\n              n_estimators=25,\n              num_leaves=7,\n              reg_alpha=1.3499999999999999,\n              reg_lambda=0.44999999999999996,\n              subsample=0.7999999999999999,\n              subsample_freq=4,\n              random_state=None,\n              n_jobs=1,\n              problem_info=ProblemInfo(\n                  gpu_training_param_dict={'processing_unit_type': 'cpu'}\n              )\n          ))],\n          verbose=False\n      )), ('29', Pipeline(\n          memory=None,\n          steps=[('standardscalerwrapper', StandardScalerWrapper(\n              copy=True,\n              with_mean=False,\n              with_std=True\n          )), ('lightgbmregressor', LightGBMRegressor(\n              boosting_type='gbdt',\n              colsample_bytree=1,\n              learning_rate=0.09474210526315789,\n              max_bin=1023,\n              max_depth=10,\n              min_data_in_leaf=0.03357306998050675,\n              min_split_gain=0.5789473684210527,\n              n_estimators=200,\n              num_leaves=31,\n              reg_alpha=0.6749999999999999,\n              reg_lambda=0.44999999999999996,\n              subsample=0.39999999999999997,\n              subsample_freq=3,\n              random_state=None,\n              n_jobs=1,\n              problem_info=ProblemInfo(\n                  gpu_training_param_dict={'processing_unit_type': 'cpu'}\n              )\n          ))],\n          verbose=False\n      )), ('3', Pipeline(\n          memory=None,\n          steps=[('maxabsscaler', MaxAbsScaler(\n              copy=True\n          )), ('elasticnet', ElasticNet(\n              alpha=0.001,\n              copy_X=True,\n              fit_intercept=True,\n              l1_ratio=1,\n              max_iter=1000,\n              normalize=False,\n              positive=False,\n              precompute=False,\n              random_state=None,\n              selection='cyclic',\n              tol=0.0001,\n              warm_start=False\n          ))],\n          verbose=False\n      )), ('2', Pipeline(\n          memory=None,\n          steps=[('standardscalerwrapper', StandardScalerWrapper(\n              copy=True,\n              with_mean=False,\n              with_std=False\n          )), ('xgboostregressor', XGBoostRegressor(\n              random_state=0,\n              n_jobs=1,\n              problem_info=ProblemInfo(\n                  gpu_training_param_dict={'processing_unit_type': 'cpu'}\n              ),\n              booster='gbtree',\n              colsample_bytree=0.5,\n              eta=0.001,\n              gamma=0,\n              max_depth=9,\n              max_leaves=63,\n              n_estimators=100,\n              objective='reg:linear',\n              reg_alpha=0,\n              reg_lambda=0.625,\n              subsample=0.7,\n              tree_method='auto'\n          ))],\n          verbose=False\n      )), ('14', Pipeline(\n          memory=None,\n          steps=[('standardscalerwrapper', StandardScalerWrapper(\n              copy=True,\n              with_mean=False,\n              with_std=False\n          )), ('xgboostregressor', XGBoostRegressor(\n              random_state=0,\n              n_jobs=1,\n              problem_info=ProblemInfo(\n                  gpu_training_param_dict={'processing_unit_type': 'cpu'}\n              ),\n              booster='gbtree',\n              colsample_bytree=1,\n              eta=0.5,\n              gamma=0,\n              max_depth=9,\n              max_leaves=0,\n              n_estimators=100,\n              objective='reg:linear',\n              reg_alpha=0,\n              reg_lambda=2.3958333333333335,\n              subsample=0.9,\n              tree_method='auto'\n          ))],\n          verbose=False\n      )), ('12', Pipeline(\n          memory=None,\n          steps=[('sparsenormalizer', Normalizer(\n              copy=True,\n              norm='l1'\n          )), ('xgboostregressor', XGBoostRegressor(\n              random_state=0,\n              n_jobs=1,\n              problem_info=ProblemInfo(\n                  gpu_training_param_dict={'processing_unit_type': 'cpu'}\n              ),\n              booster='gbtree',\n              colsample_bytree=0.9,\n              eta=0.5,\n              gamma=0.1,\n              max_depth=10,\n              max_leaves=255,\n              n_estimators=600,\n              objective='reg:linear',\n              reg_alpha=0.7291666666666667,\n              reg_lambda=1.3541666666666667,\n              subsample=0.5,\n              tree_method='auto'\n          ))],\n          verbose=False\n      ))],\n      weights=[0.07142857142857142, 0.07142857142857142, 0.07142857142857142, 0.07142857142857142, 0.07142857142857142, 0.07142857142857142, 0.2857142857142857, 0.07142857142857142, 0.07142857142857142, 0.14285714285714285]\n  ))]"
          },
          "metadata": {}
        }
      ],
      "execution_count": 9,
      "metadata": {
        "gather": {
          "logged": 1645356438382
        },
        "jupyter": {
          "outputs_hidden": false,
          "source_hidden": false
        },
        "nteract": {
          "transient": {
            "deleting": false
          }
        }
      }
    },
    {
      "cell_type": "code",
      "source": [
        "#TODO: Save the best model\n",
        "joblib.dump(fitted_model_automl, 'model.pkl')\n",
        "joblib.dump(fitted_model_automl, 'inference/model.pkl')"
      ],
      "outputs": [
        {
          "output_type": "execute_result",
          "execution_count": 27,
          "data": {
            "text/plain": "['inference/model.pkl']"
          },
          "metadata": {}
        }
      ],
      "execution_count": 27,
      "metadata": {
        "gather": {
          "logged": 1645360644645
        },
        "jupyter": {
          "outputs_hidden": false,
          "source_hidden": false
        },
        "nteract": {
          "transient": {
            "deleting": false
          }
        }
      }
    },
    {
      "cell_type": "code",
      "source": [
        "#Check the performance of the best model. This is required in order to compare it with the hyperdrive one\r\n",
        "df_bonds = ws.datasets['df_bonds']\r\n",
        "x=df_bonds.to_pandas_dataframe().drop('OAS',1)\r\n",
        "y=df_bonds.to_pandas_dataframe()['OAS']\r\n",
        "   \r\n",
        "x_train,x_test,y_train,y_test=train_test_split(x,y,test_size=0.30,random_state=10)\r\n",
        "y_pred_automl = fitted_model_automl.predict(x_test)\r\n",
        "rmse_automl = math.sqrt(mean_squared_error(y_true=y_test, y_pred=y_pred_automl))\r\n",
        "print('automl:',rmse_automl)"
      ],
      "outputs": [
        {
          "output_type": "stream",
          "name": "stdout",
          "text": "automl: 271.9051570541046\n"
        }
      ],
      "execution_count": 13,
      "metadata": {
        "jupyter": {
          "source_hidden": false,
          "outputs_hidden": false
        },
        "nteract": {
          "transient": {
            "deleting": false
          }
        },
        "gather": {
          "logged": 1645356558898
        }
      }
    },
    {
      "cell_type": "markdown",
      "source": [
        "## Model Deployment\n",
        "\n",
        "Remember you have to deploy only one of the two models you trained but you still need to register both the models. Perform the steps in the rest of this notebook only if you wish to deploy this model.\n",
        "\n",
        "TODO: In the cell below, register the model, create an inference config and deploy the model as a web service."
      ],
      "metadata": {}
    },
    {
      "cell_type": "code",
      "source": [
        "#Register model\r\n",
        "description = 'Bonds data'\r\n",
        "model = remote_run.register_model(model_name=model_name,\r\n",
        "                          description=description,\r\n",
        "                           tags=None)\r\n",
        "print(remote_run.model_id)"
      ],
      "outputs": [],
      "execution_count": null,
      "metadata": {
        "jupyter": {
          "source_hidden": false,
          "outputs_hidden": false
        },
        "nteract": {
          "transient": {
            "deleting": false
          }
        }
      }
    },
    {
      "cell_type": "code",
      "source": [
        "#Create an inference configuration:\r\n",
        "env = Environment(name=\"valeriy_env\")\r\n",
        "from azureml.core.conda_dependencies import CondaDependencies\r\n",
        "script_file_name='inference/score_bonds.py'\r\n",
        "best_run_automl.download_file('outputs/scoring_file_v_1_0_0.py',script_file_name)\r\n",
        "inference_config = InferenceConfig(entry_script=script_file_name,environment=best_run_automl.get_environment())\r\n",
        "aciconfig=AciWebservice.deploy_configuration(cpu_cores=1,memory_gb=1,tags={'type':'bonds_df'}, description='n')\r\n",
        "aci_service=Model.deploy(ws,'valeriywebservice7',[model],inference_config,aciconfig)\r\n",
        "aci_service.wait_for_deployment(True)\r\n",
        "print(aci_service.state)"
      ],
      "outputs": [
        {
          "output_type": "stream",
          "name": "stdout",
          "text": "Tips: You can try get_logs(): https://aka.ms/debugimage#dockerlog or local deployment: https://aka.ms/debugimage#debug-locally to debug if deployment takes longer than 10 minutes.\nRunning\n2022-02-20 13:22:25+00:00 Creating Container Registry if not exists.\n2022-02-20 13:22:26+00:00 Registering the environment.\n2022-02-20 13:22:26+00:00 Use the existing image.\n2022-02-20 13:22:27+00:00 Generating deployment configuration.\n2022-02-20 13:22:28+00:00 Submitting deployment to compute.\n2022-02-20 13:22:32+00:00 Checking the status of deployment valeriywebservice7..\n2022-02-20 13:26:29+00:00 Checking the status of inference endpoint valeriywebservice7.\nSucceeded\nACI service creation operation finished, operation \"Succeeded\"\nHealthy\n"
        }
      ],
      "execution_count": 42,
      "metadata": {
        "jupyter": {
          "source_hidden": false,
          "outputs_hidden": false
        },
        "nteract": {
          "transient": {
            "deleting": false
          }
        },
        "gather": {
          "logged": 1645363594574
        }
      }
    },
    {
      "cell_type": "markdown",
      "source": [
        "TODO: In the cell below, send a request to the web service you deployed to test it."
      ],
      "metadata": {
        "collapsed": true,
        "gather": {
          "logged": 1598431657736
        },
        "jupyter": {
          "outputs_hidden": false,
          "source_hidden": false
        },
        "nteract": {
          "transient": {
            "deleting": false
          }
        }
      }
    },
    {
      "cell_type": "code",
      "source": [
        "import json\r\n",
        "data_to_predict=x_test.iloc[:1]\r\n",
        "test_sample=json.dumps({'data':data_to_predict.to_dict(orient='records')})\r\n",
        "response = aci_service.run(input_data=test_sample)\r\n",
        "print(response)"
      ],
      "outputs": [
        {
          "output_type": "stream",
          "name": "stdout",
          "text": "{\"result\": [337.6384513314485]}\n"
        }
      ],
      "execution_count": 60,
      "metadata": {
        "jupyter": {
          "source_hidden": false,
          "outputs_hidden": false
        },
        "nteract": {
          "transient": {
            "deleting": false
          }
        },
        "gather": {
          "logged": 1645364101753
        }
      }
    },
    {
      "cell_type": "markdown",
      "source": [
        "TODO: In the cell below, print the logs of the web service and delete the service"
      ],
      "metadata": {
        "collapsed": true,
        "gather": {
          "logged": 1598432765711
        },
        "jupyter": {
          "outputs_hidden": false,
          "source_hidden": false
        },
        "nteract": {
          "transient": {
            "deleting": false
          }
        }
      }
    },
    {
      "cell_type": "code",
      "source": [
        "#Save the enviroment details\r\n",
        "env_used=best_run_automl.get_environment()\r\n",
        "env_used.save_to_directory('automl_env.txt', overwrite=True)"
      ],
      "outputs": [
        {
          "output_type": "stream",
          "name": "stderr",
          "text": "WARNING:urllib3.connectionpool:Retrying (Retry(total=2, connect=2, read=3, redirect=None, status=None)) after connection broken by 'ConnectTimeoutError(<urllib3.connection.HTTPSConnection object at 0x7fbb907de748>, 'Connection to westeurope.experiments.azureml.net timed out. (connect timeout=100)')': /history/v1.0/subscriptions/6971f5ac-8af1-446e-8034-05acea24681f/resourceGroups/aml-quickstarts-187155/providers/Microsoft.MachineLearningServices/workspaces/quick-starts-ws-187155/experiments/bonds_oas/runs/AutoML_ed3676e2-c0c7-4066-8772-69c21d2030ac_50/details\nWARNING:urllib3.connectionpool:Retrying (Retry(total=2, connect=2, read=3, redirect=None, status=None)) after connection broken by 'ConnectTimeoutError(<urllib3.connection.HTTPSConnection object at 0x7fbb9066ce48>, 'Connection to westeurope.experiments.azureml.net timed out. (connect timeout=100)')': /history/v1.0/subscriptions/6971f5ac-8af1-446e-8034-05acea24681f/resourceGroups/aml-quickstarts-187155/providers/Microsoft.MachineLearningServices/workspaces/quick-starts-ws-187155/experimentids/1cb88fd2-0273-4228-abd9-329516f4366b/runs/AutoML_ed3676e2-c0c7-4066-8772-69c21d2030ac\nWARNING:urllib3.connectionpool:Retrying (Retry(total=1, connect=1, read=3, redirect=None, status=None)) after connection broken by 'ConnectTimeoutError(<urllib3.connection.HTTPSConnection object at 0x7fbb9066c2e8>, 'Connection to westeurope.experiments.azureml.net timed out. (connect timeout=100)')': /history/v1.0/subscriptions/6971f5ac-8af1-446e-8034-05acea24681f/resourceGroups/aml-quickstarts-187155/providers/Microsoft.MachineLearningServices/workspaces/quick-starts-ws-187155/experimentids/1cb88fd2-0273-4228-abd9-329516f4366b/runs/AutoML_ed3676e2-c0c7-4066-8772-69c21d2030ac\n"
        }
      ],
      "execution_count": 61,
      "metadata": {
        "jupyter": {
          "source_hidden": false,
          "outputs_hidden": false
        },
        "nteract": {
          "transient": {
            "deleting": false
          }
        },
        "gather": {
          "logged": 1645364630055
        }
      }
    },
    {
      "cell_type": "code",
      "source": [
        "\n",
        "\n",
        "print(aci_service.get_logs())\n",
        "aci_service.delete()"
      ],
      "outputs": [],
      "execution_count": null,
      "metadata": {
        "jupyter": {
          "outputs_hidden": false,
          "source_hidden": false
        },
        "nteract": {
          "transient": {
            "deleting": false
          }
        }
      }
    },
    {
      "cell_type": "markdown",
      "source": [
        "**Submission Checklist**\n",
        "- I have registered the model.\n",
        "- I have deployed the model with the best accuracy as a webservice.\n",
        "- I have tested the webservice by sending a request to the model endpoint.\n",
        "- I have deleted the webservice and shutdown all the computes that I have used.\n",
        "- I have taken a screenshot showing the model endpoint as active.\n",
        "- The project includes a file containing the environment details.\n"
      ],
      "metadata": {}
    },
    {
      "cell_type": "markdown",
      "source": [],
      "metadata": {}
    }
  ],
  "metadata": {
    "kernel_info": {
      "name": "python3-azureml"
    },
    "kernelspec": {
      "name": "python3-azureml",
      "language": "python",
      "display_name": "Python 3.6 - AzureML"
    },
    "language_info": {
      "name": "python",
      "version": "3.6.9",
      "mimetype": "text/x-python",
      "codemirror_mode": {
        "name": "ipython",
        "version": 3
      },
      "pygments_lexer": "ipython3",
      "nbconvert_exporter": "python",
      "file_extension": ".py"
    },
    "nteract": {
      "version": "nteract-front-end@1.0.0"
    },
    "microsoft": {
      "host": {
        "AzureML": {
          "notebookHasBeenCompleted": true
        }
      }
    }
  },
  "nbformat": 4,
  "nbformat_minor": 2
}